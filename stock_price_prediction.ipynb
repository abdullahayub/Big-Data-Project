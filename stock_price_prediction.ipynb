{
 "cells": [
  {
   "cell_type": "markdown",
   "metadata": {
    "id": "K45FDD0j-nRs"
   },
   "source": [
    "# Deep Learning in Finance\n",
    "\n",
    "Author: Abdullah Ayub ID: 2111163\n",
    "\n",
    "This project can be titled as Deep Learning in Finance in which we will explore\n",
    "various machine learning and deep learning approaches to predict the stock prices. \n",
    "for two world renowned companies \n",
    "**McDonalds and Intel Corporation**\n",
    "\n",
    "On the **McDonalds data**, we focussed on \n",
    "- Linear Regression\n",
    "- MLP\n",
    "- Scikit learn's\n",
    "\n",
    "whereas for\n",
    "\n",
    "the **Intel Corporation dataset**, we explored deep learning approaches of \n",
    "- CNN\n",
    "- Recurrent Neural Network\n",
    "\n",
    "\n",
    "\n",
    "\n",
    "\n",
    "\n",
    "## Data Set\n",
    "\n",
    "The Data was downloaded for the last 12 years and uses monthly data for prediction of stock values using **yfinance API provided by Yahoo**.\n",
    "\n",
    "First of all we are going to install the Yfinance library. It is an API by Yahoo which provides live data of multiple stocks of various companies.\n",
    "\n",
    "- Using this API we fetched our dataset\n",
    "\n",
    "We have selected a time frame of\n",
    "the data i.e. we have defined a time limit of which time frame, we will be fetching\n",
    "the data. The starting date was chosen to be **January 1st,2010 and ending date\n",
    "was chosen as Dec 31,2021**.\n",
    "\n",
    "\n",
    "\n"
   ]
  },
  {
   "cell_type": "markdown",
   "metadata": {
    "id": "UVDLfX-dp9rc"
   },
   "source": [
    "## Multilayer perceptrons for time series forecasting\n",
    "\n",
    "\n",
    "\n",
    "\n",
    "\n",
    "\n",
    "Multilayer perceptrons (MLP) are one of the basic architectures of neural networks. At a very high level, they consist of three components:\n",
    "\n",
    "- The input layer: A vector of features.\n",
    "- The hidden layers: Each hidden layer consists of N neurons. The output layer: Output of the network; depends on the task (regression/classification).\n",
    "\n",
    "A multilayer perceptron (MLP) is a fully connected class of feedforward artificial neural network (ANN). The term MLP is used ambiguously, sometimes loosely to mean any feedforward ANN, sometimes strictly to refer to networks composed of multiple layers of perceptrons (with threshold activation).Multilayer perceptrons are sometimes colloquially referred to as \"vanilla\" neural networks, especially when they have a single hidden layer.\n",
    "\n",
    "An MLP consists of at least three layers of nodes: an input layer, a hidden layer and an output layer. Except for the input nodes, each node is a neuron that uses a nonlinear activation function. MLP utilizes a supervised learning technique called backpropagation for training.Its multiple layers and non-linear activation distinguish MLP from a linear perceptron. It can distinguish data that is not linearly separable.\n",
    "\n",
    "Souce: https://en.wikipedia.org/wiki/Multilayer_perceptron\n",
    "\n"
   ]
  },
  {
   "cell_type": "code",
   "execution_count": null,
   "metadata": {
    "ExecuteTime": {
     "end_time": "2020-01-29T01:50:52.915229Z",
     "start_time": "2020-01-29T01:50:52.762538Z"
    },
    "id": "KhN6kGBD-nRw"
   },
   "outputs": [],
   "source": [
    "%matplotlib inline\n",
    "#%config InlineBackend.figure_format = 'retina'\n",
    "\n",
    "import matplotlib.pyplot as plt\n",
    "import warnings\n",
    "\n",
    "plt.style.use('seaborn')\n",
    "# plt.rcParams['figure.figsize'] = [12, 8]\n",
    "# plt.rcParams['figure.dpi'] = 300\n",
    "warnings.simplefilter(action='ignore', category=FutureWarning)"
   ]
  },
  {
   "cell_type": "markdown",
   "metadata": {
    "id": "DHZ1nX1S-nRy"
   },
   "source": [
    "###1. Import the libraries: First of all we are going to install the Yfinance library. it is an API by Yahoo which provides live data of multiple stocks of various companies. Using this API we will be fetching our dataset. "
   ]
  },
  {
   "cell_type": "code",
   "execution_count": null,
   "metadata": {
    "ExecuteTime": {
     "end_time": "2020-01-29T01:25:27.498636Z",
     "start_time": "2020-01-29T01:25:27.493674Z"
    },
    "colab": {
     "base_uri": "https://localhost:8080/"
    },
    "id": "PDjHbRMu-nRy",
    "outputId": "5c48135c-3ee8-429c-b87b-0cef84d34e29"
   },
   "outputs": [
    {
     "name": "stdout",
     "output_type": "stream",
     "text": [
      "module 'yfinance' is not installed\n",
      "Collecting yfinance\n",
      "  Downloading yfinance-0.1.70-py2.py3-none-any.whl (26 kB)\n",
      "Collecting lxml>=4.5.1\n",
      "  Downloading lxml-4.8.0-cp37-cp37m-manylinux_2_17_x86_64.manylinux2014_x86_64.manylinux_2_24_x86_64.whl (6.4 MB)\n",
      "\u001b[K     |████████████████████████████████| 6.4 MB 10.5 MB/s \n",
      "\u001b[?25hRequirement already satisfied: multitasking>=0.0.7 in /usr/local/lib/python3.7/dist-packages (from yfinance) (0.0.10)\n",
      "Requirement already satisfied: pandas>=0.24.0 in /usr/local/lib/python3.7/dist-packages (from yfinance) (1.3.5)\n",
      "Requirement already satisfied: numpy>=1.15 in /usr/local/lib/python3.7/dist-packages (from yfinance) (1.21.6)\n",
      "Collecting requests>=2.26\n",
      "  Downloading requests-2.27.1-py2.py3-none-any.whl (63 kB)\n",
      "\u001b[K     |████████████████████████████████| 63 kB 2.0 MB/s \n",
      "\u001b[?25hRequirement already satisfied: pytz>=2017.3 in /usr/local/lib/python3.7/dist-packages (from pandas>=0.24.0->yfinance) (2022.1)\n",
      "Requirement already satisfied: python-dateutil>=2.7.3 in /usr/local/lib/python3.7/dist-packages (from pandas>=0.24.0->yfinance) (2.8.2)\n",
      "Requirement already satisfied: six>=1.5 in /usr/local/lib/python3.7/dist-packages (from python-dateutil>=2.7.3->pandas>=0.24.0->yfinance) (1.15.0)\n",
      "Requirement already satisfied: charset-normalizer~=2.0.0 in /usr/local/lib/python3.7/dist-packages (from requests>=2.26->yfinance) (2.0.12)\n",
      "Requirement already satisfied: certifi>=2017.4.17 in /usr/local/lib/python3.7/dist-packages (from requests>=2.26->yfinance) (2021.10.8)\n",
      "Requirement already satisfied: urllib3<1.27,>=1.21.1 in /usr/local/lib/python3.7/dist-packages (from requests>=2.26->yfinance) (1.24.3)\n",
      "Requirement already satisfied: idna<4,>=2.5 in /usr/local/lib/python3.7/dist-packages (from requests>=2.26->yfinance) (2.10)\n",
      "Installing collected packages: requests, lxml, yfinance\n",
      "  Attempting uninstall: requests\n",
      "    Found existing installation: requests 2.23.0\n",
      "    Uninstalling requests-2.23.0:\n",
      "      Successfully uninstalled requests-2.23.0\n",
      "  Attempting uninstall: lxml\n",
      "    Found existing installation: lxml 4.2.6\n",
      "    Uninstalling lxml-4.2.6:\n",
      "      Successfully uninstalled lxml-4.2.6\n",
      "\u001b[31mERROR: pip's dependency resolver does not currently take into account all the packages that are installed. This behaviour is the source of the following dependency conflicts.\n",
      "google-colab 1.0.0 requires requests~=2.23.0, but you have requests 2.27.1 which is incompatible.\n",
      "datascience 0.10.6 requires folium==0.2.1, but you have folium 0.8.3 which is incompatible.\u001b[0m\n",
      "Successfully installed lxml-4.8.0 requests-2.27.1 yfinance-0.1.70\n",
      "1.10.0+cu111\n"
     ]
    }
   ],
   "source": [
    "#import all librarires \n",
    "#install Yfinance library, for downloading live data of multiple stocks\n",
    "\n",
    "try:\n",
    "    import yfinance\n",
    "    print(\"module 'yfinance' is installed\")\n",
    "except ModuleNotFoundError:\n",
    "    print(\"module 'yfinance' is not installed\")\n",
    "    !pip install yfinance\n",
    "\n",
    "import yfinance as yf\n",
    "import numpy as np\n",
    "import seaborn as sns\n",
    "import torch\n",
    "import torch.optim as optim\n",
    "import torch.nn as nn\n",
    "import torch.nn.functional as F\n",
    "from torch.utils.data import (Dataset, TensorDataset, \n",
    "                              DataLoader, Subset)\n",
    "\n",
    "from sklearn.metrics import mean_squared_error\n",
    "\n",
    "print(torch.__version__)\n",
    "\n",
    "device = 'cuda' if torch.cuda.is_available() else 'cpu'"
   ]
  },
  {
   "cell_type": "markdown",
   "metadata": {
    "id": "oZjB2UhL-nRz"
   },
   "source": [
    "## 2. Define parameters: Here we are specifying the data we are going to    download. From the available data we have choosen the data of stocks for McDonald company whose data ticker is 'MCD'. We have selected a time frame of the data i.e. we have defined a time limit of which time frame, we will be fetching the data. The starting date was choosen to be January 1st,2010 and ending date was choosen as Dec 31,2021"
   ]
  },
  {
   "cell_type": "code",
   "execution_count": null,
   "metadata": {
    "ExecuteTime": {
     "end_time": "2020-01-29T01:25:28.831388Z",
     "start_time": "2020-01-29T01:25:28.828190Z"
    },
    "id": "Ei6GMjnF-nR0"
   },
   "outputs": [],
   "source": [
    "# Data set for  MCD\n",
    "TICKER = 'MCD'\n",
    "START_DATE = '2010-01-02'\n",
    "END_DATE = '2021-12-31'\n",
    "N_LAGS = 3\n",
    "\n",
    "# neural network \n",
    "VALID_SIZE = 12\n",
    "BATCH_SIZE = 5\n",
    "N_EPOCHS = 1000"
   ]
  },
  {
   "cell_type": "markdown",
   "metadata": {
    "id": "QUw5jBzp-nR0"
   },
   "source": [
    "## 3. Download and prepare the data: Here we are downloading the data for the time we specified above. The data we download was daily based data and we have resampled the data to monthly basis instead of daily basis"
   ]
  },
  {
   "cell_type": "code",
   "execution_count": null,
   "metadata": {
    "colab": {
     "base_uri": "https://localhost:8080/",
     "height": 238
    },
    "id": "1vH5n_MMXwTD",
    "outputId": "407549dc-23fa-462e-a215-f55983b630b3"
   },
   "outputs": [
    {
     "data": {
      "text/html": [
       "\n",
       "  <div id=\"df-74b82230-1420-44ad-b3d3-2fadb89bcd8d\">\n",
       "    <div class=\"colab-df-container\">\n",
       "      <div>\n",
       "<style scoped>\n",
       "    .dataframe tbody tr th:only-of-type {\n",
       "        vertical-align: middle;\n",
       "    }\n",
       "\n",
       "    .dataframe tbody tr th {\n",
       "        vertical-align: top;\n",
       "    }\n",
       "\n",
       "    .dataframe thead th {\n",
       "        text-align: right;\n",
       "    }\n",
       "</style>\n",
       "<table border=\"1\" class=\"dataframe\">\n",
       "  <thead>\n",
       "    <tr style=\"text-align: right;\">\n",
       "      <th></th>\n",
       "      <th>Open</th>\n",
       "      <th>High</th>\n",
       "      <th>Low</th>\n",
       "      <th>Close</th>\n",
       "      <th>Adj Close</th>\n",
       "      <th>Volume</th>\n",
       "    </tr>\n",
       "    <tr>\n",
       "      <th>Date</th>\n",
       "      <th></th>\n",
       "      <th></th>\n",
       "      <th></th>\n",
       "      <th></th>\n",
       "      <th></th>\n",
       "      <th></th>\n",
       "    </tr>\n",
       "  </thead>\n",
       "  <tbody>\n",
       "    <tr>\n",
       "      <th>2010-01-04</th>\n",
       "      <td>62.630001</td>\n",
       "      <td>63.07</td>\n",
       "      <td>62.310001</td>\n",
       "      <td>62.779999</td>\n",
       "      <td>44.199619</td>\n",
       "      <td>5839300</td>\n",
       "    </tr>\n",
       "    <tr>\n",
       "      <th>2010-01-05</th>\n",
       "      <td>62.660000</td>\n",
       "      <td>62.75</td>\n",
       "      <td>62.189999</td>\n",
       "      <td>62.299999</td>\n",
       "      <td>43.861698</td>\n",
       "      <td>7099000</td>\n",
       "    </tr>\n",
       "    <tr>\n",
       "      <th>2010-01-06</th>\n",
       "      <td>62.200001</td>\n",
       "      <td>62.41</td>\n",
       "      <td>61.060001</td>\n",
       "      <td>61.450001</td>\n",
       "      <td>43.263241</td>\n",
       "      <td>10551300</td>\n",
       "    </tr>\n",
       "    <tr>\n",
       "      <th>2010-01-07</th>\n",
       "      <td>61.250000</td>\n",
       "      <td>62.34</td>\n",
       "      <td>61.110001</td>\n",
       "      <td>61.900002</td>\n",
       "      <td>43.580070</td>\n",
       "      <td>7517700</td>\n",
       "    </tr>\n",
       "    <tr>\n",
       "      <th>2010-01-08</th>\n",
       "      <td>62.270000</td>\n",
       "      <td>62.41</td>\n",
       "      <td>61.599998</td>\n",
       "      <td>61.840000</td>\n",
       "      <td>43.537823</td>\n",
       "      <td>6107300</td>\n",
       "    </tr>\n",
       "  </tbody>\n",
       "</table>\n",
       "</div>\n",
       "      <button class=\"colab-df-convert\" onclick=\"convertToInteractive('df-74b82230-1420-44ad-b3d3-2fadb89bcd8d')\"\n",
       "              title=\"Convert this dataframe to an interactive table.\"\n",
       "              style=\"display:none;\">\n",
       "        \n",
       "  <svg xmlns=\"http://www.w3.org/2000/svg\" height=\"24px\"viewBox=\"0 0 24 24\"\n",
       "       width=\"24px\">\n",
       "    <path d=\"M0 0h24v24H0V0z\" fill=\"none\"/>\n",
       "    <path d=\"M18.56 5.44l.94 2.06.94-2.06 2.06-.94-2.06-.94-.94-2.06-.94 2.06-2.06.94zm-11 1L8.5 8.5l.94-2.06 2.06-.94-2.06-.94L8.5 2.5l-.94 2.06-2.06.94zm10 10l.94 2.06.94-2.06 2.06-.94-2.06-.94-.94-2.06-.94 2.06-2.06.94z\"/><path d=\"M17.41 7.96l-1.37-1.37c-.4-.4-.92-.59-1.43-.59-.52 0-1.04.2-1.43.59L10.3 9.45l-7.72 7.72c-.78.78-.78 2.05 0 2.83L4 21.41c.39.39.9.59 1.41.59.51 0 1.02-.2 1.41-.59l7.78-7.78 2.81-2.81c.8-.78.8-2.07 0-2.86zM5.41 20L4 18.59l7.72-7.72 1.47 1.35L5.41 20z\"/>\n",
       "  </svg>\n",
       "      </button>\n",
       "      \n",
       "  <style>\n",
       "    .colab-df-container {\n",
       "      display:flex;\n",
       "      flex-wrap:wrap;\n",
       "      gap: 12px;\n",
       "    }\n",
       "\n",
       "    .colab-df-convert {\n",
       "      background-color: #E8F0FE;\n",
       "      border: none;\n",
       "      border-radius: 50%;\n",
       "      cursor: pointer;\n",
       "      display: none;\n",
       "      fill: #1967D2;\n",
       "      height: 32px;\n",
       "      padding: 0 0 0 0;\n",
       "      width: 32px;\n",
       "    }\n",
       "\n",
       "    .colab-df-convert:hover {\n",
       "      background-color: #E2EBFA;\n",
       "      box-shadow: 0px 1px 2px rgba(60, 64, 67, 0.3), 0px 1px 3px 1px rgba(60, 64, 67, 0.15);\n",
       "      fill: #174EA6;\n",
       "    }\n",
       "\n",
       "    [theme=dark] .colab-df-convert {\n",
       "      background-color: #3B4455;\n",
       "      fill: #D2E3FC;\n",
       "    }\n",
       "\n",
       "    [theme=dark] .colab-df-convert:hover {\n",
       "      background-color: #434B5C;\n",
       "      box-shadow: 0px 1px 3px 1px rgba(0, 0, 0, 0.15);\n",
       "      filter: drop-shadow(0px 1px 2px rgba(0, 0, 0, 0.3));\n",
       "      fill: #FFFFFF;\n",
       "    }\n",
       "  </style>\n",
       "\n",
       "      <script>\n",
       "        const buttonEl =\n",
       "          document.querySelector('#df-74b82230-1420-44ad-b3d3-2fadb89bcd8d button.colab-df-convert');\n",
       "        buttonEl.style.display =\n",
       "          google.colab.kernel.accessAllowed ? 'block' : 'none';\n",
       "\n",
       "        async function convertToInteractive(key) {\n",
       "          const element = document.querySelector('#df-74b82230-1420-44ad-b3d3-2fadb89bcd8d');\n",
       "          const dataTable =\n",
       "            await google.colab.kernel.invokeFunction('convertToInteractive',\n",
       "                                                     [key], {});\n",
       "          if (!dataTable) return;\n",
       "\n",
       "          const docLinkHtml = 'Like what you see? Visit the ' +\n",
       "            '<a target=\"_blank\" href=https://colab.research.google.com/notebooks/data_table.ipynb>data table notebook</a>'\n",
       "            + ' to learn more about interactive tables.';\n",
       "          element.innerHTML = '';\n",
       "          dataTable['output_type'] = 'display_data';\n",
       "          await google.colab.output.renderOutput(dataTable, element);\n",
       "          const docLink = document.createElement('div');\n",
       "          docLink.innerHTML = docLinkHtml;\n",
       "          element.appendChild(docLink);\n",
       "        }\n",
       "      </script>\n",
       "    </div>\n",
       "  </div>\n",
       "  "
      ],
      "text/plain": [
       "                 Open   High        Low      Close  Adj Close    Volume\n",
       "Date                                                                   \n",
       "2010-01-04  62.630001  63.07  62.310001  62.779999  44.199619   5839300\n",
       "2010-01-05  62.660000  62.75  62.189999  62.299999  43.861698   7099000\n",
       "2010-01-06  62.200001  62.41  61.060001  61.450001  43.263241  10551300\n",
       "2010-01-07  61.250000  62.34  61.110001  61.900002  43.580070   7517700\n",
       "2010-01-08  62.270000  62.41  61.599998  61.840000  43.537823   6107300"
      ]
     },
     "execution_count": 5,
     "metadata": {},
     "output_type": "execute_result"
    }
   ],
   "source": [
    "# Dowload and prepare the data set\n",
    "df = yf.download(TICKER, \n",
    "                 start=START_DATE, \n",
    "                 end=END_DATE,\n",
    "                 progress=False)\n",
    "#As we can see we index Date and the data contains 5 variables\n",
    "df.head() "
   ]
  },
  {
   "cell_type": "code",
   "execution_count": null,
   "metadata": {
    "ExecuteTime": {
     "end_time": "2020-01-29T01:25:30.830839Z",
     "start_time": "2020-01-29T01:25:30.097947Z"
    },
    "colab": {
     "base_uri": "https://localhost:8080/"
    },
    "id": "ZByq4qsk-nR1",
    "outputId": "875e5aa6-9f46-4564-a0ee-25ac8d9097d6"
   },
   "outputs": [
    {
     "data": {
      "text/plain": [
       "(144,)"
      ]
     },
     "execution_count": 6,
     "metadata": {},
     "output_type": "execute_result"
    }
   ],
   "source": [
    "# resampled the data into monthly basis\n",
    "df = df.resample('M').last()\n",
    "prices = df['Adj Close'].values\n",
    "prices.shape # prices"
   ]
  },
  {
   "cell_type": "code",
   "execution_count": null,
   "metadata": {
    "ExecuteTime": {
     "end_time": "2020-01-17T17:01:24.960921Z",
     "start_time": "2020-01-17T17:01:20.692854Z"
    },
    "colab": {
     "base_uri": "https://localhost:8080/",
     "height": 294
    },
    "id": "fPhWKNsK-nR2",
    "outputId": "e9d896a4-a104-4215-fe66-d1954996a2a7"
   },
   "outputs": [
    {
     "data": {
      "image/png": "[encoded data removed]",
      "text/plain": [
       "<Figure size 432x288 with 1 Axes>"
      ]
     },
     "metadata": {
      "needs_background": "light"
     },
     "output_type": "display_data"
    }
   ],
   "source": [
    "fig, ax = plt.subplots()\n",
    "\n",
    "ax.plot(df.index, prices)\n",
    "ax.set(title=f\"{TICKER}'s Stock price\", \n",
    "       xlabel='Time', \n",
    "       ylabel='Price ($)');"
   ]
  },
  {
   "cell_type": "code",
   "execution_count": null,
   "metadata": {
    "colab": {
     "base_uri": "https://localhost:8080/",
     "height": 300
    },
    "id": "4vx-ZlGauXuB",
    "outputId": "92cd2d54-c2bb-459d-8e97-60ba96239034"
   },
   "outputs": [
    {
     "data": {
      "text/html": [
       "\n",
       "  <div id=\"df-60995f04-06c2-40ee-8719-1bfd9e2ee22c\">\n",
       "    <div class=\"colab-df-container\">\n",
       "      <div>\n",
       "<style scoped>\n",
       "    .dataframe tbody tr th:only-of-type {\n",
       "        vertical-align: middle;\n",
       "    }\n",
       "\n",
       "    .dataframe tbody tr th {\n",
       "        vertical-align: top;\n",
       "    }\n",
       "\n",
       "    .dataframe thead th {\n",
       "        text-align: right;\n",
       "    }\n",
       "</style>\n",
       "<table border=\"1\" class=\"dataframe\">\n",
       "  <thead>\n",
       "    <tr style=\"text-align: right;\">\n",
       "      <th></th>\n",
       "      <th>Open</th>\n",
       "      <th>High</th>\n",
       "      <th>Low</th>\n",
       "      <th>Close</th>\n",
       "      <th>Adj Close</th>\n",
       "      <th>Volume</th>\n",
       "    </tr>\n",
       "  </thead>\n",
       "  <tbody>\n",
       "    <tr>\n",
       "      <th>count</th>\n",
       "      <td>144.000000</td>\n",
       "      <td>144.000000</td>\n",
       "      <td>144.000000</td>\n",
       "      <td>144.000000</td>\n",
       "      <td>144.000000</td>\n",
       "      <td>1.440000e+02</td>\n",
       "    </tr>\n",
       "    <tr>\n",
       "      <th>mean</th>\n",
       "      <td>134.630347</td>\n",
       "      <td>135.524792</td>\n",
       "      <td>133.658264</td>\n",
       "      <td>134.503125</td>\n",
       "      <td>118.806640</td>\n",
       "      <td>5.264640e+06</td>\n",
       "    </tr>\n",
       "    <tr>\n",
       "      <th>std</th>\n",
       "      <td>53.100369</td>\n",
       "      <td>53.529609</td>\n",
       "      <td>52.576923</td>\n",
       "      <td>53.063554</td>\n",
       "      <td>58.078205</td>\n",
       "      <td>2.182564e+06</td>\n",
       "    </tr>\n",
       "    <tr>\n",
       "      <th>min</th>\n",
       "      <td>62.820000</td>\n",
       "      <td>63.220001</td>\n",
       "      <td>62.389999</td>\n",
       "      <td>62.430000</td>\n",
       "      <td>43.953201</td>\n",
       "      <td>1.714600e+06</td>\n",
       "    </tr>\n",
       "    <tr>\n",
       "      <th>25%</th>\n",
       "      <td>94.787498</td>\n",
       "      <td>95.250000</td>\n",
       "      <td>94.289997</td>\n",
       "      <td>94.509998</td>\n",
       "      <td>74.724487</td>\n",
       "      <td>3.656075e+06</td>\n",
       "    </tr>\n",
       "    <tr>\n",
       "      <th>50%</th>\n",
       "      <td>114.535000</td>\n",
       "      <td>115.099998</td>\n",
       "      <td>114.125000</td>\n",
       "      <td>114.760002</td>\n",
       "      <td>99.585636</td>\n",
       "      <td>4.867200e+06</td>\n",
       "    </tr>\n",
       "    <tr>\n",
       "      <th>75%</th>\n",
       "      <td>179.169998</td>\n",
       "      <td>179.682507</td>\n",
       "      <td>176.494995</td>\n",
       "      <td>177.872505</td>\n",
       "      <td>164.743774</td>\n",
       "      <td>6.446250e+06</td>\n",
       "    </tr>\n",
       "    <tr>\n",
       "      <th>max</th>\n",
       "      <td>269.000000</td>\n",
       "      <td>269.260010</td>\n",
       "      <td>266.700012</td>\n",
       "      <td>267.209991</td>\n",
       "      <td>265.731750</td>\n",
       "      <td>1.295470e+07</td>\n",
       "    </tr>\n",
       "  </tbody>\n",
       "</table>\n",
       "</div>\n",
       "      <button class=\"colab-df-convert\" onclick=\"convertToInteractive('df-60995f04-06c2-40ee-8719-1bfd9e2ee22c')\"\n",
       "              title=\"Convert this dataframe to an interactive table.\"\n",
       "              style=\"display:none;\">\n",
       "        \n",
       "  <svg xmlns=\"http://www.w3.org/2000/svg\" height=\"24px\"viewBox=\"0 0 24 24\"\n",
       "       width=\"24px\">\n",
       "    <path d=\"M0 0h24v24H0V0z\" fill=\"none\"/>\n",
       "    <path d=\"M18.56 5.44l.94 2.06.94-2.06 2.06-.94-2.06-.94-.94-2.06-.94 2.06-2.06.94zm-11 1L8.5 8.5l.94-2.06 2.06-.94-2.06-.94L8.5 2.5l-.94 2.06-2.06.94zm10 10l.94 2.06.94-2.06 2.06-.94-2.06-.94-.94-2.06-.94 2.06-2.06.94z\"/><path d=\"M17.41 7.96l-1.37-1.37c-.4-.4-.92-.59-1.43-.59-.52 0-1.04.2-1.43.59L10.3 9.45l-7.72 7.72c-.78.78-.78 2.05 0 2.83L4 21.41c.39.39.9.59 1.41.59.51 0 1.02-.2 1.41-.59l7.78-7.78 2.81-2.81c.8-.78.8-2.07 0-2.86zM5.41 20L4 18.59l7.72-7.72 1.47 1.35L5.41 20z\"/>\n",
       "  </svg>\n",
       "      </button>\n",
       "      \n",
       "  <style>\n",
       "    .colab-df-container {\n",
       "      display:flex;\n",
       "      flex-wrap:wrap;\n",
       "      gap: 12px;\n",
       "    }\n",
       "\n",
       "    .colab-df-convert {\n",
       "      background-color: #E8F0FE;\n",
       "      border: none;\n",
       "      border-radius: 50%;\n",
       "      cursor: pointer;\n",
       "      display: none;\n",
       "      fill: #1967D2;\n",
       "      height: 32px;\n",
       "      padding: 0 0 0 0;\n",
       "      width: 32px;\n",
       "    }\n",
       "\n",
       "    .colab-df-convert:hover {\n",
       "      background-color: #E2EBFA;\n",
       "      box-shadow: 0px 1px 2px rgba(60, 64, 67, 0.3), 0px 1px 3px 1px rgba(60, 64, 67, 0.15);\n",
       "      fill: #174EA6;\n",
       "    }\n",
       "\n",
       "    [theme=dark] .colab-df-convert {\n",
       "      background-color: #3B4455;\n",
       "      fill: #D2E3FC;\n",
       "    }\n",
       "\n",
       "    [theme=dark] .colab-df-convert:hover {\n",
       "      background-color: #434B5C;\n",
       "      box-shadow: 0px 1px 3px 1px rgba(0, 0, 0, 0.15);\n",
       "      filter: drop-shadow(0px 1px 2px rgba(0, 0, 0, 0.3));\n",
       "      fill: #FFFFFF;\n",
       "    }\n",
       "  </style>\n",
       "\n",
       "      <script>\n",
       "        const buttonEl =\n",
       "          document.querySelector('#df-60995f04-06c2-40ee-8719-1bfd9e2ee22c button.colab-df-convert');\n",
       "        buttonEl.style.display =\n",
       "          google.colab.kernel.accessAllowed ? 'block' : 'none';\n",
       "\n",
       "        async function convertToInteractive(key) {\n",
       "          const element = document.querySelector('#df-60995f04-06c2-40ee-8719-1bfd9e2ee22c');\n",
       "          const dataTable =\n",
       "            await google.colab.kernel.invokeFunction('convertToInteractive',\n",
       "                                                     [key], {});\n",
       "          if (!dataTable) return;\n",
       "\n",
       "          const docLinkHtml = 'Like what you see? Visit the ' +\n",
       "            '<a target=\"_blank\" href=https://colab.research.google.com/notebooks/data_table.ipynb>data table notebook</a>'\n",
       "            + ' to learn more about interactive tables.';\n",
       "          element.innerHTML = '';\n",
       "          dataTable['output_type'] = 'display_data';\n",
       "          await google.colab.output.renderOutput(dataTable, element);\n",
       "          const docLink = document.createElement('div');\n",
       "          docLink.innerHTML = docLinkHtml;\n",
       "          element.appendChild(docLink);\n",
       "        }\n",
       "      </script>\n",
       "    </div>\n",
       "  </div>\n",
       "  "
      ],
      "text/plain": [
       "             Open        High         Low       Close   Adj Close  \\\n",
       "count  144.000000  144.000000  144.000000  144.000000  144.000000   \n",
       "mean   134.630347  135.524792  133.658264  134.503125  118.806640   \n",
       "std     53.100369   53.529609   52.576923   53.063554   58.078205   \n",
       "min     62.820000   63.220001   62.389999   62.430000   43.953201   \n",
       "25%     94.787498   95.250000   94.289997   94.509998   74.724487   \n",
       "50%    114.535000  115.099998  114.125000  114.760002   99.585636   \n",
       "75%    179.169998  179.682507  176.494995  177.872505  164.743774   \n",
       "max    269.000000  269.260010  266.700012  267.209991  265.731750   \n",
       "\n",
       "             Volume  \n",
       "count  1.440000e+02  \n",
       "mean   5.264640e+06  \n",
       "std    2.182564e+06  \n",
       "min    1.714600e+06  \n",
       "25%    3.656075e+06  \n",
       "50%    4.867200e+06  \n",
       "75%    6.446250e+06  \n",
       "max    1.295470e+07  "
      ]
     },
     "execution_count": 8,
     "metadata": {},
     "output_type": "execute_result"
    }
   ],
   "source": [
    "# check the description of data set\n",
    "df.describe()"
   ]
  },
  {
   "cell_type": "code",
   "execution_count": null,
   "metadata": {
    "id": "caUOGMAkwH4V"
   },
   "outputs": [],
   "source": [
    "returns=(df-df.shift(1))/df.shift(1)"
   ]
  },
  {
   "cell_type": "code",
   "execution_count": null,
   "metadata": {
    "colab": {
     "base_uri": "https://localhost:8080/",
     "height": 297
    },
    "id": "s7EYzOwOwbHZ",
    "outputId": "82e27ccd-1f99-434d-95b8-5d9125cd47d9"
   },
   "outputs": [
    {
     "data": {
      "image/png": "[encoded data removed]",
      "text/plain": [
       "<Figure size 432x288 with 1 Axes>"
      ]
     },
     "metadata": {
      "needs_background": "light"
     },
     "output_type": "display_data"
    }
   ],
   "source": [
    "fig, ax = plt.subplots()\n",
    "#fig.set_size_inches(12, 6)\n",
    "plt.boxplot(returns)\n",
    "plt.tight_layout()"
   ]
  },
  {
   "cell_type": "code",
   "execution_count": null,
   "metadata": {
    "colab": {
     "base_uri": "https://localhost:8080/",
     "height": 455
    },
    "id": "3xyMLP1xz08w",
    "outputId": "f1acc79d-b9bb-4586-910e-750446311ac1"
   },
   "outputs": [
    {
     "data": {
      "text/html": [
       "\n",
       "  <div id=\"df-91e4cd14-4e1b-4dfe-84d2-5dcb5785d7c3\">\n",
       "    <div class=\"colab-df-container\">\n",
       "      <div>\n",
       "<style scoped>\n",
       "    .dataframe tbody tr th:only-of-type {\n",
       "        vertical-align: middle;\n",
       "    }\n",
       "\n",
       "    .dataframe tbody tr th {\n",
       "        vertical-align: top;\n",
       "    }\n",
       "\n",
       "    .dataframe thead th {\n",
       "        text-align: right;\n",
       "    }\n",
       "</style>\n",
       "<table border=\"1\" class=\"dataframe\">\n",
       "  <thead>\n",
       "    <tr style=\"text-align: right;\">\n",
       "      <th></th>\n",
       "      <th>Open</th>\n",
       "      <th>High</th>\n",
       "      <th>Low</th>\n",
       "      <th>Close</th>\n",
       "      <th>Adj Close</th>\n",
       "      <th>Volume</th>\n",
       "    </tr>\n",
       "    <tr>\n",
       "      <th>Date</th>\n",
       "      <th></th>\n",
       "      <th></th>\n",
       "      <th></th>\n",
       "      <th></th>\n",
       "      <th></th>\n",
       "      <th></th>\n",
       "    </tr>\n",
       "  </thead>\n",
       "  <tbody>\n",
       "    <tr>\n",
       "      <th>2010-02-28</th>\n",
       "      <td>0.026106</td>\n",
       "      <td>0.023885</td>\n",
       "      <td>0.023401</td>\n",
       "      <td>0.022745</td>\n",
       "      <td>0.031438</td>\n",
       "      <td>0.092073</td>\n",
       "    </tr>\n",
       "    <tr>\n",
       "      <th>2010-03-31</th>\n",
       "      <td>0.041731</td>\n",
       "      <td>0.041094</td>\n",
       "      <td>0.043540</td>\n",
       "      <td>0.044949</td>\n",
       "      <td>0.044949</td>\n",
       "      <td>-0.304377</td>\n",
       "    </tr>\n",
       "    <tr>\n",
       "      <th>2010-04-30</th>\n",
       "      <td>0.065227</td>\n",
       "      <td>0.064104</td>\n",
       "      <td>0.056431</td>\n",
       "      <td>0.058004</td>\n",
       "      <td>0.058003</td>\n",
       "      <td>0.208304</td>\n",
       "    </tr>\n",
       "    <tr>\n",
       "      <th>2010-05-31</th>\n",
       "      <td>-0.059975</td>\n",
       "      <td>-0.056896</td>\n",
       "      <td>-0.051712</td>\n",
       "      <td>-0.052699</td>\n",
       "      <td>-0.044739</td>\n",
       "      <td>0.028450</td>\n",
       "    </tr>\n",
       "    <tr>\n",
       "      <th>2010-06-30</th>\n",
       "      <td>-0.014128</td>\n",
       "      <td>-0.011681</td>\n",
       "      <td>-0.014232</td>\n",
       "      <td>-0.014954</td>\n",
       "      <td>-0.014955</td>\n",
       "      <td>0.005597</td>\n",
       "    </tr>\n",
       "    <tr>\n",
       "      <th>...</th>\n",
       "      <td>...</td>\n",
       "      <td>...</td>\n",
       "      <td>...</td>\n",
       "      <td>...</td>\n",
       "      <td>...</td>\n",
       "      <td>...</td>\n",
       "    </tr>\n",
       "    <tr>\n",
       "      <th>2021-08-31</th>\n",
       "      <td>-0.033217</td>\n",
       "      <td>-0.031295</td>\n",
       "      <td>-0.031130</td>\n",
       "      <td>-0.021631</td>\n",
       "      <td>-0.016267</td>\n",
       "      <td>0.257318</td>\n",
       "    </tr>\n",
       "    <tr>\n",
       "      <th>2021-09-30</th>\n",
       "      <td>0.038261</td>\n",
       "      <td>0.032348</td>\n",
       "      <td>0.026207</td>\n",
       "      <td>0.015371</td>\n",
       "      <td>0.015371</td>\n",
       "      <td>0.067629</td>\n",
       "    </tr>\n",
       "    <tr>\n",
       "      <th>2021-10-31</th>\n",
       "      <td>-0.007231</td>\n",
       "      <td>0.002730</td>\n",
       "      <td>0.006852</td>\n",
       "      <td>0.018415</td>\n",
       "      <td>0.018415</td>\n",
       "      <td>0.380196</td>\n",
       "    </tr>\n",
       "    <tr>\n",
       "      <th>2021-11-30</th>\n",
       "      <td>0.018025</td>\n",
       "      <td>0.007355</td>\n",
       "      <td>0.006104</td>\n",
       "      <td>-0.003869</td>\n",
       "      <td>0.001654</td>\n",
       "      <td>-0.113942</td>\n",
       "    </tr>\n",
       "    <tr>\n",
       "      <th>2021-12-31</th>\n",
       "      <td>0.087396</td>\n",
       "      <td>0.086164</td>\n",
       "      <td>0.093257</td>\n",
       "      <td>0.092437</td>\n",
       "      <td>0.092437</td>\n",
       "      <td>-0.553036</td>\n",
       "    </tr>\n",
       "  </tbody>\n",
       "</table>\n",
       "<p>143 rows × 6 columns</p>\n",
       "</div>\n",
       "      <button class=\"colab-df-convert\" onclick=\"convertToInteractive('df-91e4cd14-4e1b-4dfe-84d2-5dcb5785d7c3')\"\n",
       "              title=\"Convert this dataframe to an interactive table.\"\n",
       "              style=\"display:none;\">\n",
       "        \n",
       "  <svg xmlns=\"http://www.w3.org/2000/svg\" height=\"24px\"viewBox=\"0 0 24 24\"\n",
       "       width=\"24px\">\n",
       "    <path d=\"M0 0h24v24H0V0z\" fill=\"none\"/>\n",
       "    <path d=\"M18.56 5.44l.94 2.06.94-2.06 2.06-.94-2.06-.94-.94-2.06-.94 2.06-2.06.94zm-11 1L8.5 8.5l.94-2.06 2.06-.94-2.06-.94L8.5 2.5l-.94 2.06-2.06.94zm10 10l.94 2.06.94-2.06 2.06-.94-2.06-.94-.94-2.06-.94 2.06-2.06.94z\"/><path d=\"M17.41 7.96l-1.37-1.37c-.4-.4-.92-.59-1.43-.59-.52 0-1.04.2-1.43.59L10.3 9.45l-7.72 7.72c-.78.78-.78 2.05 0 2.83L4 21.41c.39.39.9.59 1.41.59.51 0 1.02-.2 1.41-.59l7.78-7.78 2.81-2.81c.8-.78.8-2.07 0-2.86zM5.41 20L4 18.59l7.72-7.72 1.47 1.35L5.41 20z\"/>\n",
       "  </svg>\n",
       "      </button>\n",
       "      \n",
       "  <style>\n",
       "    .colab-df-container {\n",
       "      display:flex;\n",
       "      flex-wrap:wrap;\n",
       "      gap: 12px;\n",
       "    }\n",
       "\n",
       "    .colab-df-convert {\n",
       "      background-color: #E8F0FE;\n",
       "      border: none;\n",
       "      border-radius: 50%;\n",
       "      cursor: pointer;\n",
       "      display: none;\n",
       "      fill: #1967D2;\n",
       "      height: 32px;\n",
       "      padding: 0 0 0 0;\n",
       "      width: 32px;\n",
       "    }\n",
       "\n",
       "    .colab-df-convert:hover {\n",
       "      background-color: #E2EBFA;\n",
       "      box-shadow: 0px 1px 2px rgba(60, 64, 67, 0.3), 0px 1px 3px 1px rgba(60, 64, 67, 0.15);\n",
       "      fill: #174EA6;\n",
       "    }\n",
       "\n",
       "    [theme=dark] .colab-df-convert {\n",
       "      background-color: #3B4455;\n",
       "      fill: #D2E3FC;\n",
       "    }\n",
       "\n",
       "    [theme=dark] .colab-df-convert:hover {\n",
       "      background-color: #434B5C;\n",
       "      box-shadow: 0px 1px 3px 1px rgba(0, 0, 0, 0.15);\n",
       "      filter: drop-shadow(0px 1px 2px rgba(0, 0, 0, 0.3));\n",
       "      fill: #FFFFFF;\n",
       "    }\n",
       "  </style>\n",
       "\n",
       "      <script>\n",
       "        const buttonEl =\n",
       "          document.querySelector('#df-91e4cd14-4e1b-4dfe-84d2-5dcb5785d7c3 button.colab-df-convert');\n",
       "        buttonEl.style.display =\n",
       "          google.colab.kernel.accessAllowed ? 'block' : 'none';\n",
       "\n",
       "        async function convertToInteractive(key) {\n",
       "          const element = document.querySelector('#df-91e4cd14-4e1b-4dfe-84d2-5dcb5785d7c3');\n",
       "          const dataTable =\n",
       "            await google.colab.kernel.invokeFunction('convertToInteractive',\n",
       "                                                     [key], {});\n",
       "          if (!dataTable) return;\n",
       "\n",
       "          const docLinkHtml = 'Like what you see? Visit the ' +\n",
       "            '<a target=\"_blank\" href=https://colab.research.google.com/notebooks/data_table.ipynb>data table notebook</a>'\n",
       "            + ' to learn more about interactive tables.';\n",
       "          element.innerHTML = '';\n",
       "          dataTable['output_type'] = 'display_data';\n",
       "          await google.colab.output.renderOutput(dataTable, element);\n",
       "          const docLink = document.createElement('div');\n",
       "          docLink.innerHTML = docLinkHtml;\n",
       "          element.appendChild(docLink);\n",
       "        }\n",
       "      </script>\n",
       "    </div>\n",
       "  </div>\n",
       "  "
      ],
      "text/plain": [
       "                Open      High       Low     Close  Adj Close    Volume\n",
       "Date                                                                   \n",
       "2010-02-28  0.026106  0.023885  0.023401  0.022745   0.031438  0.092073\n",
       "2010-03-31  0.041731  0.041094  0.043540  0.044949   0.044949 -0.304377\n",
       "2010-04-30  0.065227  0.064104  0.056431  0.058004   0.058003  0.208304\n",
       "2010-05-31 -0.059975 -0.056896 -0.051712 -0.052699  -0.044739  0.028450\n",
       "2010-06-30 -0.014128 -0.011681 -0.014232 -0.014954  -0.014955  0.005597\n",
       "...              ...       ...       ...       ...        ...       ...\n",
       "2021-08-31 -0.033217 -0.031295 -0.031130 -0.021631  -0.016267  0.257318\n",
       "2021-09-30  0.038261  0.032348  0.026207  0.015371   0.015371  0.067629\n",
       "2021-10-31 -0.007231  0.002730  0.006852  0.018415   0.018415  0.380196\n",
       "2021-11-30  0.018025  0.007355  0.006104 -0.003869   0.001654 -0.113942\n",
       "2021-12-31  0.087396  0.086164  0.093257  0.092437   0.092437 -0.553036\n",
       "\n",
       "[143 rows x 6 columns]"
      ]
     },
     "execution_count": 11,
     "metadata": {},
     "output_type": "execute_result"
    }
   ],
   "source": [
    "# remove rows that contain na value\n",
    "returns.dropna()"
   ]
  },
  {
   "cell_type": "code",
   "execution_count": null,
   "metadata": {
    "colab": {
     "base_uri": "https://localhost:8080/",
     "height": 387
    },
    "id": "0cIkLrTTzwXj",
    "outputId": "421fef8b-e9b5-47b4-e034-3de91c2bcd93"
   },
   "outputs": [
    {
     "data": {
      "text/plain": [
       "Text(0.5, 6.79999999999999, 'Monthly returns')"
      ]
     },
     "execution_count": 12,
     "metadata": {},
     "output_type": "execute_result"
    },
    {
     "data": {
      "image/png": "[encoded data removed]",
      "text/plain": [
       "<Figure size 360x360 with 1 Axes>"
      ]
     },
     "metadata": {
      "needs_background": "light"
     },
     "output_type": "display_data"
    }
   ],
   "source": [
    "sns.displot(returns['Close'], kde=True, label='Close')\n",
    "plt.legend(loc='upper right', fontsize=12)\n",
    "plt.xlabel('Monthly returns')"
   ]
  },
  {
   "cell_type": "markdown",
   "metadata": {
    "id": "rpIengmU-nR2"
   },
   "source": [
    "## 4. Define a function for transforming time series into a dataset for the MLP: Here we are going to define a function that we will be needing to convert our time series data into a suitable format that it can be put forwarded to a Multi layer perceptron. The input parameters and output parameters of the function has been specified as well"
   ]
  },
  {
   "cell_type": "code",
   "execution_count": null,
   "metadata": {
    "ExecuteTime": {
     "end_time": "2020-01-17T17:01:24.980384Z",
     "start_time": "2020-01-17T17:01:24.975782Z"
    },
    "id": "1YP9EXQj-nR3"
   },
   "outputs": [],
   "source": [
    "def create_input_data(series, n_lags=1):\n",
    "    '''\n",
    "    Function for transforming time series into input acceptable by a multilayer perceptron.\n",
    "    \n",
    "    Parameters\n",
    "    ----------\n",
    "    series : np.array\n",
    "        The time series to be transformed\n",
    "    n_lags : int\n",
    "        The number of lagged observations to consider as features\n",
    "\n",
    "    Returns\n",
    "    -------\n",
    "    X : np.array\n",
    "        Array of features\n",
    "    y : np.array\n",
    "        Array of target\n",
    "    '''\n",
    "    X, y = [], []\n",
    "\n",
    "    for step in range(len(series) - n_lags):\n",
    "        end_step = step + n_lags\n",
    "        X.append(series[step:end_step])\n",
    "        y.append(series[end_step])\n",
    "    return np.array(X), np.array(y)"
   ]
  },
  {
   "cell_type": "code",
   "execution_count": null,
   "metadata": {
    "colab": {
     "base_uri": "https://localhost:8080/"
    },
    "id": "dAMIrUQa-nR3",
    "outputId": "a8dfb0f8-7c7b-4a46-915d-b9c07d5c6de1"
   },
   "outputs": [
    {
     "data": {
      "text/plain": [
       "array([ 43.95,  45.34,  47.37,  50.12,  47.88,  47.16,  49.93,  52.7 ,\n",
       "        53.75,  56.1 ,  56.92,  55.8 ,  53.56,  55.47,  55.77,  57.4 ,\n",
       "        60.21,  62.26,  63.86,  67.21,  65.29,  69.02,  71.54,  75.15,\n",
       "        74.19,  74.88,  73.99,  73.5 ,  67.91,  67.3 ,  67.93,  68.56,\n",
       "        70.29,  66.5 ,  67.28,  68.19,  73.66,  74.73,  77.68,  79.59,\n",
       "        75.84,  77.75,  77.03,  74.71,  76.17,  76.42,  77.73,  77.46,\n",
       "        75.18,  76.6 ,  78.92,  81.62,  82.32,  81.76,  76.74,  76.72,\n",
       "        77.61,  76.73,  79.95,  77.38,  76.34,  82.38,  81.17,  80.43,\n",
       "        80.6 ,  79.88,  83.91,  80.54,  83.52,  95.15,  97.53, 100.93,\n",
       "       105.74, 100.87, 108.18, 108.88, 105.06, 104.35, 102.01, 101.07,\n",
       "       100.8 ,  98.37, 105.03, 107.19, 107.94, 113.24, 114.98, 124.13,\n",
       "       133.86, 136.72, 138.49, 143.65, 140.69, 149.88, 155.34, 155.48,\n",
       "       154.59, 143.39, 142.15, 152.21, 145.45, 143.34, 144.12, 149.33,\n",
       "       153.99, 162.84, 174.6 , 164.46, 165.58, 171.35, 177.  , 184.15,\n",
       "       185.89, 194.69, 197.56, 205.44, 202.36, 185.39, 184.47, 187.44,\n",
       "       202.96, 185.33, 157.82, 179.02, 179.02, 177.25, 186.67, 206.36,\n",
       "       212.13, 205.86, 211.4 , 208.62, 202.06, 201.64, 219.25, 230.93,\n",
       "       230.05, 227.2 , 238.73, 234.84, 238.45, 242.85, 243.25, 265.73])"
      ]
     },
     "execution_count": 14,
     "metadata": {},
     "output_type": "execute_result"
    }
   ],
   "source": [
    "prices.round(2)"
   ]
  },
  {
   "cell_type": "markdown",
   "metadata": {
    "id": "7uAaPTWd-nR4"
   },
   "source": [
    "## 5. Transform the considered time series into input for the MLP: Here we are using the above function to transform the data into the MLP format. After converting the data, we are also visualising the output "
   ]
  },
  {
   "cell_type": "code",
   "execution_count": null,
   "metadata": {
    "ExecuteTime": {
     "end_time": "2020-01-17T17:01:24.998653Z",
     "start_time": "2020-01-17T17:01:24.994131Z"
    },
    "id": "4hbrvjqH-nR4"
   },
   "outputs": [],
   "source": [
    "# Transforming the data into MLP format\n",
    "X, y = create_input_data(prices, N_LAGS)\n",
    "\n",
    "X_tensor = torch.from_numpy(X).float()\n",
    "y_tensor = torch.from_numpy(y).float().unsqueeze(dim=1)"
   ]
  },
  {
   "cell_type": "markdown",
   "metadata": {
    "ExecuteTime": {
     "end_time": "2020-01-07T09:39:12.779014Z",
     "start_time": "2020-01-07T09:39:12.775815Z"
    },
    "id": "fR2NvkEF-nR5"
   },
   "source": [
    "## 6. Create training and validation sets: In order to train and test the model, we are going to have to split our data into two sets. One of the sest will be used for training while a portion of it will be reserved for the validation so we can see the performance of the model on the data. "
   ]
  },
  {
   "cell_type": "code",
   "execution_count": null,
   "metadata": {
    "ExecuteTime": {
     "end_time": "2020-01-17T17:01:25.070207Z",
     "start_time": "2020-01-17T17:01:25.065734Z"
    },
    "id": "7O1Q5Lnf-nR5"
   },
   "outputs": [],
   "source": [
    "#Defining the datasets for training and validation\n",
    "\n",
    "valid_ind = len(X) - VALID_SIZE\n",
    "\n",
    "dataset = TensorDataset(X_tensor, y_tensor)\n",
    "\n",
    "train_dataset = Subset(dataset, list(range(valid_ind)))\n",
    "valid_dataset = Subset(dataset, list(range(valid_ind, len(X))))\n",
    "\n",
    "train_loader = DataLoader(dataset=train_dataset,\n",
    "                          batch_size=BATCH_SIZE)\n",
    "valid_loader = DataLoader(dataset=valid_dataset, \n",
    "                          batch_size=BATCH_SIZE)"
   ]
  },
  {
   "cell_type": "markdown",
   "metadata": {
    "id": "U7iciy-T-nR5"
   },
   "source": [
    "Inspect the observations from the first batch (BATCH_SIZE=5):"
   ]
  },
  {
   "cell_type": "code",
   "execution_count": null,
   "metadata": {
    "ExecuteTime": {
     "end_time": "2020-01-17T17:01:25.507198Z",
     "start_time": "2020-01-17T17:01:25.501836Z"
    },
    "colab": {
     "base_uri": "https://localhost:8080/"
    },
    "id": "T2MGa28S-nR6",
    "outputId": "144f38c6-0bb4-4f47-a287-031abd7faac3"
   },
   "outputs": [
    {
     "data": {
      "text/plain": [
       "tensor([[43.9532, 45.3350, 47.3728],\n",
       "        [45.3350, 47.3728, 50.1206],\n",
       "        [47.3728, 50.1206, 47.8782],\n",
       "        [50.1206, 47.8782, 47.1622],\n",
       "        [47.8782, 47.1622, 49.9260]])"
      ]
     },
     "execution_count": 19,
     "metadata": {},
     "output_type": "execute_result"
    }
   ],
   "source": [
    "next(iter(train_loader))[0]"
   ]
  },
  {
   "cell_type": "code",
   "execution_count": null,
   "metadata": {
    "ExecuteTime": {
     "end_time": "2020-01-17T17:01:25.834680Z",
     "start_time": "2020-01-17T17:01:25.828450Z"
    },
    "colab": {
     "base_uri": "https://localhost:8080/"
    },
    "id": "zvBHMfqd-nR6",
    "outputId": "c5002981-d330-4dac-f981-d0b4957c5bb5"
   },
   "outputs": [
    {
     "data": {
      "text/plain": [
       "tensor([[50.1206],\n",
       "        [47.8782],\n",
       "        [47.1622],\n",
       "        [49.9260],\n",
       "        [52.7019]])"
      ]
     },
     "execution_count": 20,
     "metadata": {},
     "output_type": "execute_result"
    }
   ],
   "source": [
    "next(iter(train_loader))[1]"
   ]
  },
  {
   "cell_type": "markdown",
   "metadata": {
    "id": "PKKk8Qk1-nR6"
   },
   "source": [
    "Check the size of the datasets:"
   ]
  },
  {
   "cell_type": "code",
   "execution_count": null,
   "metadata": {
    "ExecuteTime": {
     "end_time": "2020-01-17T17:01:27.026122Z",
     "start_time": "2020-01-17T17:01:27.023045Z"
    },
    "colab": {
     "base_uri": "https://localhost:8080/"
    },
    "id": "w-RJL_jv-nR6",
    "outputId": "bfd31596-c7fd-4cf5-f407-2b56e73060ef"
   },
   "outputs": [
    {
     "name": "stdout",
     "output_type": "stream",
     "text": [
      "Size of datasets - training: 129 | validation: 12\n"
     ]
    }
   ],
   "source": [
    "# spli our data set into two sets\n",
    "# print the size of Training and Testing Data Set\n",
    "print(f'Size of datasets - training: {len(train_loader.dataset)} | validation: {len(valid_loader.dataset)}')"
   ]
  },
  {
   "cell_type": "markdown",
   "metadata": {
    "id": "rKNNGAuJ-nR7"
   },
   "source": [
    "## 7. Use naive forecast as a benchmark and evaluate the performance: Here we are going to use the naive forecast model to check the model response and we are calculating the Mean squared error "
   ]
  },
  {
   "cell_type": "code",
   "execution_count": null,
   "metadata": {
    "ExecuteTime": {
     "end_time": "2020-01-17T17:01:28.115536Z",
     "start_time": "2020-01-17T17:01:28.110894Z"
    },
    "colab": {
     "base_uri": "https://localhost:8080/"
    },
    "id": "s5Nq-M2S-nR7",
    "outputId": "35c009e6-fa12-4f0a-bfcf-d7292b134c1d"
   },
   "outputs": [
    {
     "name": "stdout",
     "output_type": "stream",
     "text": [
      "Naive forecast - MSE: 98.71, RMSE: 9.94\n"
     ]
    }
   ],
   "source": [
    "# we defined a benchmark by using a naive forecast as a benchmark and evaluated the performance.\n",
    "\n",
    "naive_pred = prices[len(prices) - VALID_SIZE - 1:-1]\n",
    "y_valid = prices[len(prices) - VALID_SIZE:]\n",
    "\n",
    "# calculate root mean square error\n",
    "naive_mse = mean_squared_error(y_valid, naive_pred)\n",
    "naive_rmse = np.sqrt(naive_mse)\n",
    "print(f\"Naive forecast - MSE: {naive_mse:.2f}, RMSE: {naive_rmse:.2f}\")"
   ]
  },
  {
   "cell_type": "markdown",
   "metadata": {
    "id": "6fJx5r87-nR7"
   },
   "source": [
    "## Testing Linear Regression\n"
   ]
  },
  {
   "cell_type": "markdown",
   "metadata": {
    "id": "H5EVOzgvQHzP"
   },
   "source": [
    "### In the following lines of code we are going to make a linear regression model to predict the stock prices. the model has been imported from the sklearn library and at the end, using the matplotlib library of the python we are going to visualise the forecast of the model to check how good it is performing with respect to actual output on the validation set that we created above "
   ]
  },
  {
   "cell_type": "code",
   "execution_count": null,
   "metadata": {
    "ExecuteTime": {
     "end_time": "2020-01-17T17:01:28.872449Z",
     "start_time": "2020-01-17T17:01:28.869684Z"
    },
    "colab": {
     "base_uri": "https://localhost:8080/",
     "height": 330
    },
    "id": "ZhrfsnJl-nR8",
    "outputId": "f2fac5cd-fc0d-4e62-a995-e3e5a6e5cb85"
   },
   "outputs": [
    {
     "name": "stdout",
     "output_type": "stream",
     "text": [
      "Linear Regression's forecast - MSE: 78.12, RMSE: 8.84\n",
      "Linear Regression's coefficients: [ 0.26387741 -0.27288053  1.01609217]\n"
     ]
    },
    {
     "data": {
      "image/png": "[encoded data removed]",
      "text/plain": [
       "<Figure size 432x288 with 1 Axes>"
      ]
     },
     "metadata": {
      "needs_background": "light"
     },
     "output_type": "display_data"
    }
   ],
   "source": [
    "# Apply the linear regression model to predict the stock prices\n",
    "\n",
    "from sklearn.linear_model import LinearRegression\n",
    "\n",
    "X_train = X[:valid_ind, ]\n",
    "y_train = y[:valid_ind]\n",
    "\n",
    "X_valid = X[valid_ind:, ]\n",
    "y_valid = y[valid_ind:]\n",
    "\n",
    "lin_reg = LinearRegression()\n",
    "# fit the model on training data set\n",
    "lin_reg.fit(X_train, y_train)\n",
    "\n",
    "# predicting the results on the bais of testing data sets\n",
    "y_pred = lin_reg.predict(X_valid)\n",
    "# calculating mean squared error \n",
    "lr_mse = mean_squared_error(y_valid, y_pred)\n",
    "lr_rmse = np.sqrt(lr_mse)\n",
    "print(f\"Linear Regression's forecast - MSE: {lr_mse:.2f}, RMSE: {lr_rmse:.2f}\")\n",
    "print(f\"Linear Regression's coefficients: {lin_reg.coef_}\")\n",
    "\n",
    "# plot the regression line on the basis of actual and predicted reslts\n",
    "fig, ax = plt.subplots()\n",
    "\n",
    "ax.plot(y_valid, color='blue', label='Actual')\n",
    "ax.plot(y_pred, color='red', label='Prediction')\n",
    "\n",
    "ax.set(title=\"Linear Regression's Forecasts\", \n",
    "       xlabel='Time', \n",
    "       ylabel='Price ($)')\n",
    "ax.legend();"
   ]
  },
  {
   "cell_type": "markdown",
   "metadata": {
    "id": "ndBZC3F0-nR8"
   },
   "source": [
    "## 8. Define the MPL network's architecture:"
   ]
  },
  {
   "cell_type": "markdown",
   "metadata": {
    "id": "tt3CZE4d-nR8"
   },
   "source": [
    "### we choose the ReLU (Rectified Linear Unit) activation function\n",
    "$$ f(x= max(0,x)$$\n",
    "\n",
    "Here we are going to define a model architecture of the MLP Model. This is the definition of the model where we have used reLU as the activation function and also we have used a drop out of 20% to avoid the risk of overfitting the model. "
   ]
  },
  {
   "cell_type": "code",
   "execution_count": null,
   "metadata": {
    "ExecuteTime": {
     "end_time": "2020-01-17T17:01:30.048733Z",
     "start_time": "2020-01-17T17:01:30.042722Z"
    },
    "id": "nRADn9NU-nR8"
   },
   "outputs": [],
   "source": [
    "class MLP(nn.Module):\n",
    "   \n",
    "    def __init__(self, input_size):\n",
    "        super(MLP, self).__init__()\n",
    "        self.linear1 = nn.Linear(input_size, 8)\n",
    "        self.linear2 = nn.Linear(8, 4)\n",
    "        self.linear3 = nn.Linear(4, 1)\n",
    "        self.dropout = nn.Dropout(p=0.2)\n",
    "    \n",
    "    def forward(self, x):\n",
    "        x = self.linear1(x)\n",
    "        x = F.relu(x)\n",
    "        x = self.dropout(x)\n",
    "        x = self.linear2(x)\n",
    "        x = F.relu(x)\n",
    "        x = self.dropout(x)\n",
    "        x = self.linear3(x)\n",
    "        return x"
   ]
  },
  {
   "cell_type": "markdown",
   "metadata": {
    "id": "Jc_Ln4y3-nR9"
   },
   "source": [
    "## 9. Instantiate the model, the loss function and the optimizer: For the model we defined above, we are going to set the loss function and the optimizer function. We chose MSE loss function and Adam optimizer was used as the optimizer of the model to speed up the learning process of the model. "
   ]
  },
  {
   "cell_type": "code",
   "execution_count": null,
   "metadata": {
    "ExecuteTime": {
     "end_time": "2020-01-17T17:01:31.765102Z",
     "start_time": "2020-01-17T17:01:31.753257Z"
    },
    "id": "-s4pXtIv-nR9"
   },
   "outputs": [],
   "source": [
    "# set seed for reproducibility\n",
    "torch.manual_seed(42)\n",
    "\n",
    "# model multilayer perceptron\n",
    "model = MLP(N_LAGS).to(device) \n",
    "loss_fn = nn.MSELoss()\n",
    "# optimiser used Adam\n",
    "optimizer = optim.Adam(model.parameters(), lr=0.001)"
   ]
  },
  {
   "cell_type": "code",
   "execution_count": null,
   "metadata": {
    "ExecuteTime": {
     "end_time": "2020-01-17T17:01:34.101210Z",
     "start_time": "2020-01-17T17:01:34.097485Z"
    },
    "colab": {
     "base_uri": "https://localhost:8080/"
    },
    "id": "ddBNgsUl-nR9",
    "outputId": "556ba906-cde9-4c40-f915-841e3c838328"
   },
   "outputs": [
    {
     "data": {
      "text/plain": [
       "MLP(\n",
       "  (linear1): Linear(in_features=3, out_features=8, bias=True)\n",
       "  (linear2): Linear(in_features=8, out_features=4, bias=True)\n",
       "  (linear3): Linear(in_features=4, out_features=1, bias=True)\n",
       "  (dropout): Dropout(p=0.2, inplace=False)\n",
       ")"
      ]
     },
     "execution_count": 28,
     "metadata": {},
     "output_type": "execute_result"
    }
   ],
   "source": [
    "model"
   ]
  },
  {
   "cell_type": "markdown",
   "metadata": {
    "id": "E_FM1pNX-nR9"
   },
   "source": [
    "## 10. Train the network: Here we are going to train the MLP model the one we defined above and for every fifty epochs, we are going to print the model loss value to see if the loss is decreasing and the model accuracry is increasing or not"
   ]
  },
  {
   "cell_type": "code",
   "execution_count": null,
   "metadata": {
    "ExecuteTime": {
     "end_time": "2020-01-17T17:01:58.775615Z",
     "start_time": "2020-01-17T17:01:38.818401Z"
    },
    "colab": {
     "base_uri": "https://localhost:8080/"
    },
    "id": "R83xDr9k-nR9",
    "outputId": "dac04300-9c1a-40b0-8808-2ff71a93d5a6"
   },
   "outputs": [
    {
     "name": "stdout",
     "output_type": "stream",
     "text": [
      "<0> - Train. loss: 17465.17 \t Valid. loss: 59620.48\n",
      "<50> - Train. loss: 2009.59 \t Valid. loss: 1819.97\n",
      "<100> - Train. loss: 2174.28 \t Valid. loss: 1806.89\n",
      "<150> - Train. loss: 2412.92 \t Valid. loss: 1919.98\n",
      "<200> - Train. loss: 2273.97 \t Valid. loss: 988.03\n",
      "<250> - Train. loss: 2608.14 \t Valid. loss: 1976.24\n",
      "<300> - Train. loss: 1798.41 \t Valid. loss: 1120.31\n",
      "<350> - Train. loss: 1796.37 \t Valid. loss: 1302.45\n",
      "<400> - Train. loss: 1859.13 \t Valid. loss: 1626.53\n",
      "<450> - Train. loss: 1811.06 \t Valid. loss: 1585.09\n",
      "<500> - Train. loss: 3075.44 \t Valid. loss: 1499.65\n",
      "<550> - Train. loss: 1759.80 \t Valid. loss: 1971.91\n",
      "<600> - Train. loss: 1499.90 \t Valid. loss: 1391.33\n",
      "<650> - Train. loss: 1913.72 \t Valid. loss: 1973.89\n",
      "<700> - Train. loss: 1860.75 \t Valid. loss: 1554.53\n",
      "<750> - Train. loss: 1535.05 \t Valid. loss: 1655.32\n",
      "<800> - Train. loss: 1514.01 \t Valid. loss: 1663.80\n",
      "<850> - Train. loss: 1900.79 \t Valid. loss: 2031.63\n",
      "<900> - Train. loss: 1912.93 \t Valid. loss: 1651.65\n",
      "<950> - Train. loss: 1891.82 \t Valid. loss: 1559.24\n",
      "Lowest loss recorded in epoch: 56\n"
     ]
    }
   ],
   "source": [
    "PRINT_EVERY = 50\n",
    "train_losses, valid_losses = [], []\n",
    "\n",
    "for epoch in range(N_EPOCHS):\n",
    "    running_loss_train = 0\n",
    "    running_loss_valid = 0\n",
    "\n",
    "    model.train()\n",
    "    \n",
    "    for x_batch, y_batch in train_loader:\n",
    "        \n",
    "        optimizer.zero_grad()\n",
    "        \n",
    "        x_batch = x_batch.to(device)\n",
    "        y_batch = y_batch.to(device)\n",
    "        y_hat = model(x_batch)\n",
    "        loss = loss_fn(y_batch, y_hat)\n",
    "        loss.backward()\n",
    "        optimizer.step()\n",
    "        running_loss_train += loss.item() * x_batch.size(0)\n",
    "        \n",
    "    epoch_loss_train = running_loss_train / len(train_loader.dataset)\n",
    "    train_losses.append(epoch_loss_train)\n",
    "\n",
    "    with torch.no_grad():\n",
    "        \n",
    "        model.eval()\n",
    "        \n",
    "        for x_val, y_val in valid_loader:\n",
    "            x_val = x_val.to(device)\n",
    "            y_val = y_val.to(device)\n",
    "            y_hat = model(x_val)\n",
    "            loss = loss_fn(y_val, y_hat)\n",
    "            running_loss_valid += loss.item() * x_val.size(0)\n",
    "            \n",
    "        epoch_loss_valid = running_loss_valid / len(valid_loader.dataset)\n",
    "            \n",
    "        if epoch > 0 and epoch_loss_valid < min(valid_losses):\n",
    "            best_epoch = epoch\n",
    "            torch.save(model.state_dict(), './mlp_checkpoint.pth')\n",
    "            \n",
    "        valid_losses.append(epoch_loss_valid)\n",
    "\n",
    "    if epoch % PRINT_EVERY == 0:\n",
    "        print(f\"<{epoch}> - Train. loss: {epoch_loss_train:.2f} \\t Valid. loss: {epoch_loss_valid:.2f}\")\n",
    "        \n",
    "print(f'Lowest loss recorded in epoch: {best_epoch}')"
   ]
  },
  {
   "cell_type": "markdown",
   "metadata": {
    "id": "tU38Gfdz-nR-"
   },
   "source": [
    "## 11. Plot the losses over epochs: Here we going to plot the losses over epochs which will give us the idea whether the model is learning over time or not. Our output showed that after some epochs loss has decreased indicating the learning of the model"
   ]
  },
  {
   "cell_type": "code",
   "execution_count": null,
   "metadata": {
    "ExecuteTime": {
     "end_time": "2020-01-17T17:02:19.731066Z",
     "start_time": "2020-01-17T17:02:14.325554Z"
    },
    "colab": {
     "base_uri": "https://localhost:8080/",
     "height": 441
    },
    "id": "fP38K1l2-nR-",
    "outputId": "0583669e-1e5e-4475-bb8d-1bb2cfa29ae5",
    "scrolled": true
   },
   "outputs": [
    {
     "data": {
      "image/png": "[encoded data removed]",
      "text/plain": [
       "<Figure size 720x432 with 1 Axes>"
      ]
     },
     "metadata": {
      "needs_background": "light"
     },
     "output_type": "display_data"
    }
   ],
   "source": [
    "train_losses = np.array(train_losses)\n",
    "valid_losses = np.array(valid_losses)\n",
    "\n",
    "fig, ax = plt.subplots(figsize=(10,6))\n",
    "\n",
    "ax.plot(train_losses, color='blue', label='Training loss')\n",
    "ax.plot(valid_losses, color='red', label='Validation loss')\n",
    "\n",
    "ax.set(title='Loss over epochs', \n",
    "       xlabel='Epoch', \n",
    "       ylabel='Loss')\n",
    "ax.legend()\n",
    "\n",
    "plt.tight_layout()\n",
    "plt.show()"
   ]
  },
  {
   "cell_type": "markdown",
   "metadata": {
    "id": "SXcNOx5z-nR_"
   },
   "source": [
    "In the plot, we can see that after the initial drop (caused by randomly initialized weights), both the training loss and validation loss do not seem to have any visibly decreases over epochs."
   ]
  },
  {
   "cell_type": "markdown",
   "metadata": {
    "id": "MuVLCPSO-nR_"
   },
   "source": [
    "## 12. Load the best model (with the lowest validation loss):"
   ]
  },
  {
   "cell_type": "code",
   "execution_count": null,
   "metadata": {
    "ExecuteTime": {
     "end_time": "2020-01-17T17:04:23.338677Z",
     "start_time": "2020-01-17T17:04:23.333539Z"
    },
    "colab": {
     "base_uri": "https://localhost:8080/"
    },
    "id": "PyPhQVqw-nR_",
    "outputId": "e3ad6f6c-3c2e-439c-dcc3-927acbb2cfd6"
   },
   "outputs": [
    {
     "data": {
      "text/plain": [
       "<All keys matched successfully>"
      ]
     },
     "execution_count": 32,
     "metadata": {},
     "output_type": "execute_result"
    }
   ],
   "source": [
    "state_dict = torch.load('mlp_checkpoint.pth')\n",
    "model.load_state_dict(state_dict)"
   ]
  },
  {
   "cell_type": "markdown",
   "metadata": {
    "id": "0yxb3eyA-nR_"
   },
   "source": [
    "## 13. Obtain the predictions:"
   ]
  },
  {
   "cell_type": "code",
   "execution_count": null,
   "metadata": {
    "ExecuteTime": {
     "end_time": "2020-01-17T17:04:24.783484Z",
     "start_time": "2020-01-17T17:04:24.777477Z"
    },
    "id": "dCpOM9Mj-nR_"
   },
   "outputs": [],
   "source": [
    "# preparing the results of predictions\n",
    "y_pred, y_valid= [], []\n",
    "\n",
    "with torch.no_grad():\n",
    "\n",
    "    model.eval()\n",
    "    \n",
    "    for x_val, y_val in valid_loader:\n",
    "        x_val = x_val.to(device)    \n",
    "        y_pred.append(model(x_val))\n",
    "        y_valid.append(y_val)\n",
    "        \n",
    "y_pred = torch.cat(y_pred).numpy().flatten()\n",
    "y_valid = torch.cat(y_valid).numpy().flatten()"
   ]
  },
  {
   "cell_type": "markdown",
   "metadata": {
    "id": "9ourju-2-nR_"
   },
   "source": [
    "## 14. Evaluate the predictions:"
   ]
  },
  {
   "cell_type": "code",
   "execution_count": null,
   "metadata": {
    "ExecuteTime": {
     "end_time": "2020-01-17T17:04:33.119492Z",
     "start_time": "2020-01-17T17:04:27.538117Z"
    },
    "colab": {
     "base_uri": "https://localhost:8080/",
     "height": 315
    },
    "id": "iw5-LIIz-nR_",
    "outputId": "73938eaf-2b51-4f74-b6d3-b758bfe00653"
   },
   "outputs": [
    {
     "name": "stdout",
     "output_type": "stream",
     "text": [
      "MLP's forecast - MSE: 749.50, RMSE: 27.38\n"
     ]
    },
    {
     "data": {
      "image/png": "[encoded data removed]",
      "text/plain": [
       "<Figure size 432x288 with 1 Axes>"
      ]
     },
     "metadata": {
      "needs_background": "light"
     },
     "output_type": "display_data"
    }
   ],
   "source": [
    "mlp_mse = mean_squared_error(y_valid, y_pred)\n",
    "mlp_rmse = np.sqrt(mlp_mse)\n",
    "print(f\"MLP's forecast - MSE: {mlp_mse:.2f}, RMSE: {mlp_rmse:.2f}\")\n",
    "\n",
    "fig, ax = plt.subplots()\n",
    "\n",
    "ax.plot(y_valid, color='blue', label= 'True')\n",
    "ax.plot(y_pred, color='red', label='Prediction')\n",
    "\n",
    "ax.set(title=\"Multilayer Perceptron's Forecasts\", \n",
    "       xlabel='Time', \n",
    "       ylabel='Price ($)')\n",
    "ax.legend()\n",
    "\n",
    "plt.tight_layout()\n",
    "plt.show()"
   ]
  },
  {
   "cell_type": "markdown",
   "metadata": {
    "id": "XqtLOmKH-nSA"
   },
   "source": [
    "# A sequential approach to defining the network's architecture\n",
    "Multivariate setting: We can use the multilayer perceptron in the multivariate setting. Two types of possible cases are:\n",
    "- Multiple input series: Multiple time series are used to predict the future value(s) of a single time series.\n",
    "- Multiple parallel series: Multiple time series are used to predict future value(s) of multiple time series simultaneously.\n",
    "\n",
    "A sequential approach to defining the network's architecture: We can also define the network's architecture using nn.Sequential, which might be similar to anyone who worked with Keras before. The idea is that the input tensor is sequentially passed through the specified layers.\n",
    " "
   ]
  },
  {
   "cell_type": "markdown",
   "metadata": {
    "id": "AdRFmc94-nSA"
   },
   "source": [
    "In the following, we define the same network as we have already used before"
   ]
  },
  {
   "cell_type": "code",
   "execution_count": null,
   "metadata": {
    "ExecuteTime": {
     "end_time": "2020-01-17T17:04:40.471745Z",
     "start_time": "2020-01-17T17:04:40.465306Z"
    },
    "colab": {
     "base_uri": "https://localhost:8080/"
    },
    "id": "HLBEA01Q-nSA",
    "outputId": "9e88b0e9-13f6-40e7-e694-d9baaa8da5db"
   },
   "outputs": [
    {
     "data": {
      "text/plain": [
       "Sequential(\n",
       "  (0): Linear(in_features=3, out_features=8, bias=True)\n",
       "  (1): ReLU()\n",
       "  (2): Dropout(p=0.2, inplace=False)\n",
       "  (3): Linear(in_features=8, out_features=4, bias=True)\n",
       "  (4): ReLU()\n",
       "  (5): Dropout(p=0.2, inplace=False)\n",
       "  (6): Linear(in_features=4, out_features=1, bias=True)\n",
       ")"
      ]
     },
     "execution_count": 36,
     "metadata": {},
     "output_type": "execute_result"
    }
   ],
   "source": [
    "model = nn.Sequential(\n",
    "    nn.Linear(3, 8),\n",
    "    nn.ReLU(),\n",
    "    nn.Dropout(0.2),\n",
    "    nn.Linear(8, 4),\n",
    "    nn.ReLU(),\n",
    "    nn.Dropout(0.2),\n",
    "    nn.Linear(4, 1)\n",
    ")\n",
    "\n",
    "model"
   ]
  },
  {
   "cell_type": "markdown",
   "metadata": {
    "id": "LjbZqGXG-nSA"
   },
   "source": [
    "#### Estimating neural networks using `scikit-learn`"
   ]
  },
  {
   "cell_type": "markdown",
   "metadata": {
    "id": "XXOd1etp-nSA"
   },
   "source": [
    "##1. Import the libraries:"
   ]
  },
  {
   "cell_type": "code",
   "execution_count": null,
   "metadata": {
    "ExecuteTime": {
     "end_time": "2020-01-17T17:04:42.028592Z",
     "start_time": "2020-01-17T17:04:42.003789Z"
    },
    "id": "LpA7ueKa-nSA"
   },
   "outputs": [],
   "source": [
    "from sklearn.neural_network import MLPRegressor"
   ]
  },
  {
   "cell_type": "markdown",
   "metadata": {
    "id": "zaLh3LJs-nSA"
   },
   "source": [
    "##2. Define the MLP using scikit-learn:"
   ]
  },
  {
   "cell_type": "code",
   "execution_count": null,
   "metadata": {
    "ExecuteTime": {
     "end_time": "2020-01-17T17:04:59.977807Z",
     "start_time": "2020-01-17T17:04:59.974611Z"
    },
    "id": "JqltGNHG-nSB"
   },
   "outputs": [],
   "source": [
    "mlp = MLPRegressor(hidden_layer_sizes=(8, 4,), \n",
    "                   learning_rate='constant',\n",
    "                   batch_size=5,\n",
    "                   max_iter=1000,\n",
    "                   random_state=42)"
   ]
  },
  {
   "cell_type": "markdown",
   "metadata": {
    "id": "rP0qAECG-nSB"
   },
   "source": [
    "##3. Split the data into training and test set:"
   ]
  },
  {
   "cell_type": "code",
   "execution_count": null,
   "metadata": {
    "ExecuteTime": {
     "end_time": "2020-01-17T17:05:01.997385Z",
     "start_time": "2020-01-17T17:05:01.993840Z"
    },
    "id": "EPUGxapK-nSB"
   },
   "outputs": [],
   "source": [
    "valid_ind = len(X) - VALID_SIZE\n",
    "\n",
    "X_train = X[:valid_ind, ]\n",
    "y_train = y[:valid_ind]\n",
    "\n",
    "X_valid = X[valid_ind:, ]\n",
    "y_valid = y[valid_ind:]"
   ]
  },
  {
   "cell_type": "markdown",
   "metadata": {
    "id": "NDwo2XRP-nSB"
   },
   "source": [
    "## 4. Train the MLP:"
   ]
  },
  {
   "cell_type": "code",
   "execution_count": null,
   "metadata": {
    "ExecuteTime": {
     "end_time": "2020-01-17T17:05:05.273375Z",
     "start_time": "2020-01-17T17:05:04.068065Z"
    },
    "colab": {
     "base_uri": "https://localhost:8080/"
    },
    "id": "chswZJBZ-nSB",
    "outputId": "c592819c-7743-4698-e2fb-b9e917a77fa0"
   },
   "outputs": [
    {
     "data": {
      "text/plain": [
       "MLPRegressor(batch_size=5, hidden_layer_sizes=(8, 4), max_iter=1000,\n",
       "             random_state=42)"
      ]
     },
     "execution_count": 40,
     "metadata": {},
     "output_type": "execute_result"
    }
   ],
   "source": [
    "mlp.fit(X_train, y_train)"
   ]
  },
  {
   "cell_type": "markdown",
   "metadata": {
    "id": "AITnHg45-nSB"
   },
   "source": [
    "## 5. Plot the loss function over epochs:"
   ]
  },
  {
   "cell_type": "code",
   "execution_count": null,
   "metadata": {
    "ExecuteTime": {
     "end_time": "2020-01-17T17:05:11.006305Z",
     "start_time": "2020-01-17T17:05:07.206791Z"
    },
    "colab": {
     "base_uri": "https://localhost:8080/",
     "height": 283
    },
    "id": "1x9WnqdP-nSB",
    "outputId": "24a59d48-cb71-48e2-d812-c216fa7ac35a"
   },
   "outputs": [
    {
     "data": {
      "text/plain": [
       "[<matplotlib.lines.Line2D at 0x7f61259d8a50>]"
      ]
     },
     "execution_count": 41,
     "metadata": {},
     "output_type": "execute_result"
    },
    {
     "data": {
      "image/png": "[encoded data removed]",
      "text/plain": [
       "<Figure size 432x288 with 1 Axes>"
      ]
     },
     "metadata": {
      "needs_background": "light"
     },
     "output_type": "display_data"
    }
   ],
   "source": [
    "plt.plot(mlp.loss_curve_)"
   ]
  },
  {
   "cell_type": "markdown",
   "metadata": {
    "id": "wjOi9oFJ-nSC"
   },
   "source": [
    "## 6. Obtain the predictions:"
   ]
  },
  {
   "cell_type": "code",
   "execution_count": null,
   "metadata": {
    "ExecuteTime": {
     "end_time": "2020-01-17T17:05:11.058018Z",
     "start_time": "2020-01-17T17:05:11.054727Z"
    },
    "id": "iIVrLFKo-nSC"
   },
   "outputs": [],
   "source": [
    "y_pred = mlp.predict(X_valid)"
   ]
  },
  {
   "cell_type": "markdown",
   "metadata": {
    "id": "jL25UBXY-nSC"
   },
   "source": [
    "## 7. Evaluate the predictions and plot them versus the observed values:"
   ]
  },
  {
   "cell_type": "code",
   "execution_count": null,
   "metadata": {
    "ExecuteTime": {
     "end_time": "2020-01-17T17:05:16.837524Z",
     "start_time": "2020-01-17T17:05:12.497453Z"
    },
    "colab": {
     "base_uri": "https://localhost:8080/",
     "height": 312
    },
    "id": "KXnGpjX8-nSC",
    "outputId": "fd9b2954-e3b4-4db3-cb64-d09fe34e33cb"
   },
   "outputs": [
    {
     "name": "stdout",
     "output_type": "stream",
     "text": [
      "Scikit-Learn MLP's forecast - MSE: 88.91, RMSE: 9.43\n"
     ]
    },
    {
     "data": {
      "image/png": "[encoded data removed]",
      "text/plain": [
       "<Figure size 432x288 with 1 Axes>"
      ]
     },
     "metadata": {
      "needs_background": "light"
     },
     "output_type": "display_data"
    }
   ],
   "source": [
    "sk_mlp_mse = mean_squared_error(y_valid, y_pred)\n",
    "sk_mlp_rmse = np.sqrt(sk_mlp_mse)\n",
    "print(f\"Scikit-Learn MLP's forecast - MSE: {sk_mlp_mse:.2f}, RMSE: {sk_mlp_rmse:.2f}\")\n",
    "\n",
    "fig, ax = plt.subplots()\n",
    "\n",
    "ax.plot(y_valid, color='blue', label='Actual')\n",
    "ax.plot(y_pred, color='red', label='Prediction')\n",
    "\n",
    "ax.set(title=\"sklearn MLP's Forecasts\", \n",
    "       xlabel='Time', \n",
    "       ylabel='Price ($)')\n",
    "ax.legend();"
   ]
  },
  {
   "cell_type": "markdown",
   "metadata": {
    "id": "7yYw5kMa-nSC"
   },
   "source": [
    "### Multi-period forecast\n",
    "\n",
    "Multi-period forecast: Lastly, we can also use the multilayer perceptron to forecast more than one timestep ahead. To do so, we need to appropriately prepare the input data and slightly modify the network's architecture to account for more than one output."
   ]
  },
  {
   "cell_type": "markdown",
   "metadata": {
    "id": "ms1WcJ4B-nSC"
   },
   "source": [
    "1. Define a modified function for creating a dataset for the MLP:"
   ]
  },
  {
   "cell_type": "code",
   "execution_count": null,
   "metadata": {
    "ExecuteTime": {
     "end_time": "2020-01-17T17:05:16.889926Z",
     "start_time": "2020-01-17T17:05:16.885347Z"
    },
    "id": "peIQUbLX-nSC"
   },
   "outputs": [],
   "source": [
    "def create_input_data(series, n_lags=1, n_leads=1):\n",
    "    '''\n",
    "    Function for transforming time series into input acceptable by a multilayer perceptron.\n",
    "    \n",
    "    Parameters\n",
    "    ----------\n",
    "    series : np.array\n",
    "        The time series to be transformed\n",
    "    n_lags : int\n",
    "        The number of lagged observations to consider as features\n",
    "    n_leads : int\n",
    "        The number of future periods we want to forecast for\n",
    "        \n",
    "    Returns\n",
    "    -------\n",
    "    X : np.array\n",
    "        Array of features\n",
    "    y : np.array\n",
    "        Array of target\n",
    "    '''\n",
    "    X, y = [], []\n",
    "\n",
    "    for step in range(len(series) - n_lags - n_leads + 1):\n",
    "        end_step = step + n_lags\n",
    "        forward_end = end_step + n_leads\n",
    "        X.append(series[step:end_step])\n",
    "        y.append(series[end_step:forward_end])\n",
    "    return np.array(X), np.array(y)"
   ]
  },
  {
   "cell_type": "markdown",
   "metadata": {
    "ExecuteTime": {
     "end_time": "2020-01-10T15:41:05.421155Z",
     "start_time": "2020-01-10T15:41:05.417500Z"
    },
    "id": "kWAdGAUN-nSC"
   },
   "source": [
    "2. Create features and target from the time series of prices:"
   ]
  },
  {
   "cell_type": "code",
   "execution_count": null,
   "metadata": {
    "ExecuteTime": {
     "end_time": "2020-01-17T17:05:17.196277Z",
     "start_time": "2020-01-17T17:05:17.191947Z"
    },
    "id": "3AoPuSBO-nSD"
   },
   "outputs": [],
   "source": [
    "# parameters for the dataset\n",
    "N_LAGS = 3\n",
    "N_FUTURE = 2\n",
    "\n",
    "X, y = create_input_data(prices, N_LAGS, N_FUTURE)\n",
    "\n",
    "X_tensor = torch.from_numpy(X).float()\n",
    "y_tensor = torch.from_numpy(y).float()"
   ]
  },
  {
   "cell_type": "markdown",
   "metadata": {
    "id": "an1BU2wN-nSD"
   },
   "source": [
    "3. Create training and validation sets:"
   ]
  },
  {
   "cell_type": "code",
   "execution_count": null,
   "metadata": {
    "ExecuteTime": {
     "end_time": "2020-01-17T17:05:18.572561Z",
     "start_time": "2020-01-17T17:05:18.568099Z"
    },
    "id": "kj2CD31R-nSD"
   },
   "outputs": [],
   "source": [
    "dataset = TensorDataset(X_tensor, y_tensor)\n",
    "\n",
    "valid_ind = len(X) - VALID_SIZE + (N_FUTURE - 1)\n",
    "\n",
    "train_dataset = Subset(dataset, list(range(valid_ind)))\n",
    "valid_dataset = Subset(dataset, list(range(valid_ind, len(X))))\n",
    "\n",
    "train_loader = DataLoader(dataset=train_dataset, \n",
    "                          batch_size=BATCH_SIZE)\n",
    "valid_loader = DataLoader(dataset=valid_dataset, \n",
    "                          batch_size=BATCH_SIZE)"
   ]
  },
  {
   "cell_type": "markdown",
   "metadata": {
    "ExecuteTime": {
     "end_time": "2020-01-10T15:49:28.766567Z",
     "start_time": "2020-01-10T15:49:28.762234Z"
    },
    "id": "v0spxRX0-nSD"
   },
   "source": [
    "4. Define the MLP for multi-period forecasting:"
   ]
  },
  {
   "cell_type": "code",
   "execution_count": null,
   "metadata": {
    "ExecuteTime": {
     "end_time": "2020-01-17T17:05:23.350497Z",
     "start_time": "2020-01-17T17:05:23.344391Z"
    },
    "id": "a1QV5GTK-nSD"
   },
   "outputs": [],
   "source": [
    "class MLP(nn.Module):\n",
    "    \n",
    "    def __init__(self, input_size, output_size):\n",
    "        super(MLP, self).__init__()\n",
    "        self.linear1 = nn.Linear(input_size, 16)\n",
    "        self.linear2 = nn.Linear(16, 8)\n",
    "        self.linear3 = nn.Linear(8, output_size)\n",
    "        self.dropout = nn.Dropout(p=0.2)\n",
    "    \n",
    "    def forward(self, x):\n",
    "        x = self.linear1(x)\n",
    "        x = F.relu(x)\n",
    "        x = self.dropout(x)\n",
    "        x = self.linear2(x)\n",
    "        x = F.relu(x)\n",
    "        x = self.dropout(x)\n",
    "        x = self.linear3(x)\n",
    "        return x  "
   ]
  },
  {
   "cell_type": "markdown",
   "metadata": {
    "ExecuteTime": {
     "end_time": "2020-01-10T16:16:16.992453Z",
     "start_time": "2020-01-10T16:16:16.988636Z"
    },
    "id": "z19Okwch-nSD"
   },
   "source": [
    "5. Instantiate the model, the loss function and the optimizer:"
   ]
  },
  {
   "cell_type": "code",
   "execution_count": null,
   "metadata": {
    "ExecuteTime": {
     "end_time": "2020-01-17T17:05:28.871861Z",
     "start_time": "2020-01-17T17:05:28.866627Z"
    },
    "id": "XtHk6TUA-nSD"
   },
   "outputs": [],
   "source": [
    "# set seed for reproducibility\n",
    "torch.manual_seed(42)\n",
    "\n",
    "model = MLP(N_LAGS, N_FUTURE).to(device) \n",
    "loss_fn = nn.MSELoss()\n",
    "optimizer = optim.Adam(model.parameters(), lr=0.001)"
   ]
  },
  {
   "cell_type": "markdown",
   "metadata": {
    "id": "ycmtYWLB-nSE"
   },
   "source": [
    "6. Train the network:"
   ]
  },
  {
   "cell_type": "code",
   "execution_count": null,
   "metadata": {
    "ExecuteTime": {
     "end_time": "2020-01-17T17:05:54.700755Z",
     "start_time": "2020-01-17T17:05:35.295229Z"
    },
    "colab": {
     "base_uri": "https://localhost:8080/"
    },
    "id": "KaQmy-zj-nSE",
    "outputId": "f5e6339f-35ef-4af1-a891-9940aaf0ae4b"
   },
   "outputs": [
    {
     "name": "stdout",
     "output_type": "stream",
     "text": [
      "<0> - Train. loss: 16200.76 \t Valid. loss: 54216.46\n",
      "<50> - Train. loss: 2280.20 \t Valid. loss: 922.19\n",
      "<100> - Train. loss: 1226.60 \t Valid. loss: 1320.05\n",
      "<150> - Train. loss: 1235.21 \t Valid. loss: 963.34\n",
      "<200> - Train. loss: 1167.37 \t Valid. loss: 689.20\n",
      "<250> - Train. loss: 1550.11 \t Valid. loss: 750.00\n",
      "<300> - Train. loss: 1586.42 \t Valid. loss: 461.20\n",
      "<350> - Train. loss: 1039.32 \t Valid. loss: 1098.93\n",
      "<400> - Train. loss: 1410.73 \t Valid. loss: 468.60\n",
      "<450> - Train. loss: 1577.99 \t Valid. loss: 369.90\n",
      "<500> - Train. loss: 919.36 \t Valid. loss: 1067.48\n",
      "<550> - Train. loss: 1088.74 \t Valid. loss: 833.52\n",
      "<600> - Train. loss: 964.73 \t Valid. loss: 1081.48\n",
      "<650> - Train. loss: 1137.48 \t Valid. loss: 488.96\n",
      "<700> - Train. loss: 1328.12 \t Valid. loss: 516.61\n",
      "<750> - Train. loss: 1103.99 \t Valid. loss: 983.96\n",
      "<800> - Train. loss: 1147.20 \t Valid. loss: 811.47\n",
      "<850> - Train. loss: 1188.20 \t Valid. loss: 848.75\n",
      "<900> - Train. loss: 1156.02 \t Valid. loss: 579.01\n",
      "<950> - Train. loss: 1113.11 \t Valid. loss: 682.99\n",
      "Lowest loss recorded in epoch: 257\n"
     ]
    }
   ],
   "source": [
    "PRINT_EVERY = 50\n",
    "train_losses, valid_losses = [], []\n",
    "\n",
    "for epoch in range(N_EPOCHS):\n",
    "    running_loss_train = 0\n",
    "    running_loss_valid = 0\n",
    "\n",
    "    model.train()\n",
    "    \n",
    "    for x_batch, y_batch in train_loader:\n",
    "        \n",
    "        optimizer.zero_grad()\n",
    "        \n",
    "        x_batch = x_batch.to(device)\n",
    "        y_batch = y_batch.to(device)\n",
    "        y_hat = model(x_batch)\n",
    "        loss = loss_fn(y_batch, y_hat)\n",
    "        loss.backward()\n",
    "        optimizer.step()\n",
    "        running_loss_train += loss.item() * x_batch.size(0)\n",
    "        \n",
    "    epoch_loss_train = running_loss_train / len(train_loader.dataset)\n",
    "    train_losses.append(epoch_loss_train)\n",
    "\n",
    "    with torch.no_grad():\n",
    "        \n",
    "        model.eval()\n",
    "        \n",
    "        for x_val, y_val in valid_loader:\n",
    "            x_val = x_val.to(device)\n",
    "            y_val = y_val.to(device)\n",
    "            y_hat = model(x_val)\n",
    "            loss = loss_fn(y_val, y_hat)\n",
    "            running_loss_valid += loss.item() * x_val.size(0)\n",
    "            \n",
    "        epoch_loss_valid = running_loss_valid / len(valid_loader.dataset)\n",
    "            \n",
    "        if epoch > 0 and epoch_loss_valid < min(valid_losses):\n",
    "            best_epoch = epoch\n",
    "            torch.save(model.state_dict(), './mlp_checkpoint_2.pth')\n",
    "            \n",
    "        valid_losses.append(epoch_loss_valid)\n",
    "\n",
    "    if epoch % PRINT_EVERY == 0:\n",
    "        print(f\"<{epoch}> - Train. loss: {epoch_loss_train:.2f} \\t Valid. loss: {epoch_loss_valid:.2f}\")\n",
    "        \n",
    "print(f'Lowest loss recorded in epoch: {best_epoch}')"
   ]
  },
  {
   "cell_type": "markdown",
   "metadata": {
    "id": "ZEXcQsT0-nSE"
   },
   "source": [
    "7. Plot the training and validation losses:"
   ]
  },
  {
   "cell_type": "code",
   "execution_count": null,
   "metadata": {
    "ExecuteTime": {
     "end_time": "2020-01-17T17:05:59.695198Z",
     "start_time": "2020-01-17T17:05:54.873222Z"
    },
    "colab": {
     "base_uri": "https://localhost:8080/"
    },
    "id": "V3NaLRbL-nSE",
    "outputId": "71f80fa0-dcff-4080-98a5-399ab5c25297"
   },
   "outputs": [
    {
     "data": {
      "image/png": "[encoded data removed]",
      "text/plain": [
       "<Figure size 576x396 with 1 Axes>"
      ]
     },
     "metadata": {
      "image/png": {
       "height": 358,
       "width": 510
      }
     },
     "output_type": "display_data"
    }
   ],
   "source": [
    "train_losses = np.array(train_losses)\n",
    "valid_losses = np.array(valid_losses)\n",
    "\n",
    "fig, ax = plt.subplots()\n",
    "\n",
    "ax.plot(train_losses, color='blue', label='Training loss')\n",
    "ax.plot(valid_losses, color='red', label='Validation loss')\n",
    "\n",
    "ax.set(title=\"Loss over epochs\", \n",
    "       xlabel='Epoch', \n",
    "       ylabel='Loss')\n",
    "ax.legend();"
   ]
  },
  {
   "cell_type": "markdown",
   "metadata": {
    "id": "FO2tHxrw-nSE"
   },
   "source": [
    "8. Load the best model (with the lowest validation loss):"
   ]
  },
  {
   "cell_type": "code",
   "execution_count": null,
   "metadata": {
    "ExecuteTime": {
     "end_time": "2020-01-17T17:05:59.768443Z",
     "start_time": "2020-01-17T17:05:59.761024Z"
    },
    "colab": {
     "base_uri": "https://localhost:8080/"
    },
    "id": "KSP5L0pG-nSE",
    "outputId": "39c065ff-8456-445e-e7d4-273acb956a12"
   },
   "outputs": [
    {
     "data": {
      "text/plain": [
       "<All keys matched successfully>"
      ]
     },
     "execution_count": 163,
     "metadata": {},
     "output_type": "execute_result"
    }
   ],
   "source": [
    "state_dict = torch.load('mlp_checkpoint_2.pth')\n",
    "model.load_state_dict(state_dict)"
   ]
  },
  {
   "cell_type": "markdown",
   "metadata": {
    "id": "1UcjipJI-nSE"
   },
   "source": [
    "9. Obtain predictions:"
   ]
  },
  {
   "cell_type": "code",
   "execution_count": null,
   "metadata": {
    "ExecuteTime": {
     "end_time": "2020-01-17T17:05:59.838856Z",
     "start_time": "2020-01-17T17:05:59.832812Z"
    },
    "id": "l-jtnFl8-nSF"
   },
   "outputs": [],
   "source": [
    "y_pred = []\n",
    "\n",
    "with torch.no_grad():\n",
    "    \n",
    "    model.eval()\n",
    "        \n",
    "    for x_val, y_val in valid_loader:\n",
    "        x_val = x_val.to(device)\n",
    "        yhat = model(x_val)\n",
    "        y_pred.append(yhat)\n",
    "               \n",
    "y_pred = torch.cat(y_pred).numpy()"
   ]
  },
  {
   "cell_type": "markdown",
   "metadata": {
    "id": "dyQ0iz7J-nSF"
   },
   "source": [
    "10. Plot the predictions:"
   ]
  },
  {
   "cell_type": "code",
   "execution_count": null,
   "metadata": {
    "ExecuteTime": {
     "end_time": "2020-01-17T17:06:25.650786Z",
     "start_time": "2020-01-17T17:06:20.480383Z"
    },
    "colab": {
     "base_uri": "https://localhost:8080/"
    },
    "id": "TvldCjrM-nSF",
    "outputId": "67efcb5b-cf77-4310-cc13-bf1ce2e26cf0"
   },
   "outputs": [
    {
     "data": {
      "image/png": "[encoded data removed]",
      "text/plain": [
       "<Figure size 576x396 with 1 Axes>"
      ]
     },
     "metadata": {
      "image/png": {
       "height": 388,
       "width": 569
      }
     },
     "output_type": "display_data"
    }
   ],
   "source": [
    "fig, ax = plt.subplots()\n",
    "\n",
    "ax.plot(y_valid, color='blue', label='Actual')\n",
    "\n",
    "for i in range(len(y_pred)):\n",
    "    if i == 0:\n",
    "        ax.plot(np.array([i, i + 1]), y_pred[i], color='red', label='Prediction')\n",
    "    else:\n",
    "        ax.plot(np.array([i, i + 1]), y_pred[i], color='red')\n",
    "\n",
    "ax.set(title=\"MLP's Multi-period Forecasts\", \n",
    "       xlabel='Time', \n",
    "       ylabel='Price ($)')\n",
    "ax.legend()\n",
    "\n",
    "plt.tight_layout()\n",
    "plt.show()"
   ]
  },
  {
   "cell_type": "markdown",
   "metadata": {
    "id": "KJmjF2ft1Nc-"
   },
   "source": [
    "The **Intel Corporation dataset** , we explored deep learning approaches of\n",
    "\n",
    "1.   CNN\n",
    "2.   Recurrent Neural Network \n",
    "\n",
    "**Intel Corporation** stock price data was downloaded for the last 12 years and uses\n",
    "monthly data for prediction of stock values using yfinance API provided by Yahoo.\n",
    "\n",
    "First of all we are going to install the Yfinance library. It is an API by Yahoo which\n",
    "provides live data of multiple stocks of various companies. Using this API we\n",
    "fetched our dataset.\n",
    "Once we had installed the library, we specified the data we were going to\n",
    "download. From the available data we have chosen the data of stocks for\n",
    "**Intel Corporation** company whose data ticker is **'INTC'**. We have selected a time frame of\n",
    "the data i.e. we have defined a time limit of which time frame, we will be fetching\n",
    "the data. The starting date was chosen to be **January 1st,2010 and ending date\n",
    "was chosen as Dec 31,2021.**\n"
   ]
  },
  {
   "cell_type": "code",
   "execution_count": null,
   "metadata": {
    "id": "9aADlkbh1OHg"
   },
   "outputs": [],
   "source": []
  },
  {
   "cell_type": "markdown",
   "metadata": {
    "id": "-g1tRRGD-nSF"
   },
   "source": [
    "# Convolutional neural networks for time series forecasting\n",
    "Convolutional neural networks (CNN) were developed and remained very popular in the image classification domain. However, they can also be applied to 1-dimensional problems, such as predicting the next value in the sequence, be it a time series or the next word in a sentence.\n",
    "\n",
    "- Convolutional layer: The goal of this layer is to apply convolutional filtering to extract potential features.\n",
    "- Pooling layer: This layer reduces the size of the image or series while preserving the important characteristics identified by the convolutional layer.\n",
    "- Fully connected layer: Usually, there are a few fully connected layers at the end of the network to map the features extracted by the network to classes or values."
   ]
  },
  {
   "cell_type": "markdown",
   "metadata": {
    "id": "OwvU_2ip-nSF"
   },
   "source": [
    "1. Import the libraries:"
   ]
  },
  {
   "cell_type": "code",
   "execution_count": null,
   "metadata": {
    "ExecuteTime": {
     "end_time": "2020-01-29T01:25:36.441096Z",
     "start_time": "2020-01-29T01:25:35.892316Z"
    },
    "colab": {
     "base_uri": "https://localhost:8080/"
    },
    "id": "9xe0HSvX-nSF",
    "outputId": "d956b360-cad9-433e-94b6-3341223369a3"
   },
   "outputs": [
    {
     "name": "stdout",
     "output_type": "stream",
     "text": [
      "1.10.0+cu111\n"
     ]
    }
   ],
   "source": [
    "import yfinance as yf\n",
    "import numpy as np\n",
    "import os\n",
    "import random\n",
    "\n",
    "import torch\n",
    "import torch.optim as optim\n",
    "import torch.nn as nn\n",
    "from torch.utils.data import Dataset, TensorDataset, DataLoader, Subset\n",
    "from collections import OrderedDict\n",
    "\n",
    "from sklearn.metrics import mean_squared_error\n",
    "\n",
    "print(torch.__version__)\n",
    "\n",
    "device = 'cuda' if torch.cuda.is_available() else 'cpu'"
   ]
  },
  {
   "cell_type": "markdown",
   "metadata": {
    "id": "NzK61ayU-nSF"
   },
   "source": [
    "2. Create some utility functions"
   ]
  },
  {
   "cell_type": "code",
   "execution_count": null,
   "metadata": {
    "id": "9-L42b_7-nSG"
   },
   "outputs": [],
   "source": [
    "import matplotlib.pyplot as plt\n",
    "import seaborn as sns\n",
    "from fastai import *\n",
    "from fastai.tabular import *\n",
    "from sklearn import metrics\n",
    "import numpy as np\n",
    "import os\n",
    "import random\n",
    "import torch\n",
    "\n",
    "def performance_evaluation_report(model, show_plot=False, labels=None, show_pr_curve=False):\n",
    "    '''\n",
    "    Function for creating a performance report of a classification model.\n",
    "    \n",
    "    Parameters\n",
    "    ----------\n",
    "    model : fastai Learner\n",
    "        A trained model for Tabular data\n",
    "    show_plot : bool\n",
    "        Flag whether to show the plot\n",
    "    labels : list\n",
    "        List with the class names.\n",
    "    show_pr_curve : bool\n",
    "        Flag whether to also show the PR-curve. For this to take effect, \n",
    "        show_plot must be True.\n",
    "        \n",
    "    Return\n",
    "    ------\n",
    "    stats : pd.Series\n",
    "        A series with the most important evaluation metrics\n",
    "    '''\n",
    "\n",
    "    preds_valid, y_test = model.get_preds(ds_type=DatasetType.Valid)\n",
    "    y_pred = preds_valid.argmax(dim=-1)\n",
    "    y_pred_prob = preds_valid.numpy()[:, 1]\n",
    "\n",
    "    cm = metrics.confusion_matrix(y_test, y_pred)\n",
    "    tn, fp, fn, tp = cm.ravel()\n",
    "\n",
    "    precision = metrics.precision_score(y_test, y_pred),\n",
    "    recall = metrics.recall_score(y_test, y_pred),\n",
    "\n",
    "    fpr, tpr, threshold = metrics.roc_curve(y_test, y_pred_prob)\n",
    "    roc_auc = metrics.auc(fpr, tpr)\n",
    "\n",
    "    precision_vec, recall_vec, thresholds = metrics.precision_recall_curve(\n",
    "        y_test, y_pred_prob)\n",
    "    pr_auc = metrics.auc(recall_vec, precision_vec)\n",
    "\n",
    "    if show_plot:\n",
    "\n",
    "        if labels is None:\n",
    "            labels = ['Negative', 'Positive']\n",
    "\n",
    "        N_SUBPLOTS = 3 if show_pr_curve else 2\n",
    "        PLOT_WIDTH = 15 if show_pr_curve else 12\n",
    "        PLOT_HEIGHT = 5 if show_pr_curve else 6\n",
    "\n",
    "        fig, ax = plt.subplots(\n",
    "            1, N_SUBPLOTS, figsize=(PLOT_WIDTH, PLOT_HEIGHT))\n",
    "        fig.suptitle('Performance Evaluation', fontsize=16)\n",
    "\n",
    "        sns.heatmap(cm, annot=True, fmt=\"d\", linewidths=.5, cmap='BuGn_r', square=True, cbar=False, ax=ax[0],\n",
    "                    annot_kws={\"ha\": 'center', \"va\": 'center'})\n",
    "        ax[0].set(xlabel='Predicted label',\n",
    "                  ylabel='Actual label', title='Confusion Matrix')\n",
    "        ax[0].xaxis.set_ticklabels(labels)\n",
    "        ax[0].yaxis.set_ticklabels(labels)\n",
    "\n",
    "        ax[1].plot(fpr, tpr, 'b-', label=f'ROC-AUC = {roc_auc:.2f}')\n",
    "        ax[1].set(xlabel='False Positive Rate',\n",
    "                  ylabel='True Positive Rate', title='ROC Curve')\n",
    "        ax[1].plot(fp/(fp+tn), tp/(tp+fn), 'ro',\n",
    "                   markersize=8, label='Decision Point')\n",
    "        ax[1].plot([0, 1], [0, 1], 'r--')\n",
    "        ax[1].legend(loc='lower right')\n",
    "\n",
    "        if show_pr_curve:\n",
    "\n",
    "            ax[2].plot(recall_vec, precision_vec,\n",
    "                       label=f'PR-AUC = {pr_auc:.2f}')\n",
    "            ax[2].plot(recall, precision, 'ro',\n",
    "                       markersize=8, label='Decision Point')\n",
    "            ax[2].set(xlabel='Recall', ylabel='Precision',\n",
    "                      title='Precision-Recall Curve')\n",
    "            ax[2].legend()\n",
    "\n",
    "    stats = {'accuracy': metrics.accuracy_score(y_test, y_pred),\n",
    "             'precision': metrics.precision_score(y_test, y_pred),\n",
    "             'recall': metrics.recall_score(y_test, y_pred),\n",
    "             'specificity': (tn / (tn + fp)),\n",
    "             'f1_score': metrics.f1_score(y_test, y_pred),\n",
    "             'cohens_kappa': metrics.cohen_kappa_score(y_test, y_pred),\n",
    "             'roc_auc': roc_auc,\n",
    "             'pr_auc': pr_auc}\n",
    "\n",
    "    return stats\n",
    "\n",
    "\n",
    "def create_input_data(series, n_lags=1, n_leads=1):\n",
    "    '''\n",
    "    Function for transforming time series into input acceptable by a multilayer perceptron.\n",
    "    \n",
    "    Parameters\n",
    "    ----------\n",
    "    series : np.array\n",
    "        The time series to be transformed\n",
    "    n_lags : int\n",
    "        The number of lagged observations to consider as features\n",
    "    n_leads : int\n",
    "        The number of future periods we want to forecast for\n",
    "        \n",
    "    Returns\n",
    "    -------\n",
    "    X : np.array\n",
    "        Array of features\n",
    "    y : np.array\n",
    "        Array of target\n",
    "    '''\n",
    "    X = []\n",
    "    y = []\n",
    "    for step in range(len(series) - n_lags - n_leads + 1):\n",
    "        end_step = step + n_lags\n",
    "        forward_end = end_step + n_leads\n",
    "        X.append(series[step:end_step])\n",
    "        y.append(series[end_step:forward_end])\n",
    "    return np.array(X), np.array(y)\n",
    "\n",
    "# custom function for reproducibility\n",
    "def custom_set_seed(seed):\n",
    "    torch.manual_seed(seed)\n",
    "    torch.cuda.manual_seed_all(seed)\n",
    "    torch.backends.cudnn.deterministic = True\n",
    "    torch.backends.cudnn.benchmark = False\n",
    "    np.random.seed(seed)\n",
    "    random.seed(seed)\n",
    "    os.environ['PYTHONHASHSEED'] = str(seed)\n"
   ]
  },
  {
   "cell_type": "markdown",
   "metadata": {
    "id": "RQredcbM-nSG"
   },
   "source": [
    "## 3. Define the parameters: Here we are going to do the same process of downloading the data of Intel Corporation. We have choosen the same time frame that we earlier chose for the McDonald Dataset"
   ]
  },
  {
   "cell_type": "code",
   "execution_count": null,
   "metadata": {
    "ExecuteTime": {
     "end_time": "2020-01-29T01:25:37.065701Z",
     "start_time": "2020-01-29T01:25:37.062709Z"
    },
    "id": "ZZ6wvoD7-nSG"
   },
   "outputs": [],
   "source": [
    "# data\n",
    "TICKER = 'INTC'\n",
    "START_DATE = '2010-01-02'\n",
    "END_DATE = '2021-12-31'\n",
    "VALID_START = '2021-07-01'\n",
    "\n",
    "N_LAGS = 12  #use the previous 12 days price to forecast the next day price\n",
    "\n",
    "# neural network \n",
    "BATCH_SIZE = 5\n",
    "N_EPOCHS = 2000"
   ]
  },
  {
   "cell_type": "code",
   "execution_count": null,
   "metadata": {
    "id": "uFrv34mw-nSG"
   },
   "outputs": [],
   "source": [
    "df = yf.download(TICKER, \n",
    "                 start=START_DATE, \n",
    "                 end=END_DATE,\n",
    "                 progress=False)"
   ]
  },
  {
   "cell_type": "markdown",
   "metadata": {
    "id": "z4W1txa9-nSG"
   },
   "source": [
    "4. Download and prepare the data: (data should be in form of a numpy array"
   ]
  },
  {
   "cell_type": "code",
   "execution_count": null,
   "metadata": {
    "ExecuteTime": {
     "end_time": "2020-01-29T01:25:39.738460Z",
     "start_time": "2020-01-29T01:25:39.583022Z"
    },
    "id": "Tln8BfsX-nSG"
   },
   "outputs": [],
   "source": [
    "df = yf.download(TICKER, \n",
    "                 start=START_DATE, \n",
    "                 end=END_DATE,\n",
    "                 progress=False)\n",
    "df = df.resample('W-MON').last()\n",
    "valid_size = df.loc[VALID_START:END_DATE].shape[0]\n",
    "prices = df['Adj Close'].values"
   ]
  },
  {
   "cell_type": "code",
   "execution_count": null,
   "metadata": {
    "colab": {
     "base_uri": "https://localhost:8080/"
    },
    "id": "R_Gm6lEa-nSG",
    "outputId": "4c1713b6-163e-4d71-a1e2-d1518a080597"
   },
   "outputs": [
    {
     "data": {
      "text/plain": [
       "numpy.ndarray"
      ]
     },
     "execution_count": 49,
     "metadata": {},
     "output_type": "execute_result"
    }
   ],
   "source": [
    "type(prices)"
   ]
  },
  {
   "cell_type": "code",
   "execution_count": null,
   "metadata": {
    "ExecuteTime": {
     "end_time": "2020-01-17T17:07:16.611015Z",
     "start_time": "2020-01-17T17:07:12.315535Z"
    },
    "colab": {
     "base_uri": "https://localhost:8080/",
     "height": 294
    },
    "id": "DuuLA2zd-nSH",
    "outputId": "64954f2d-75a0-459a-fda5-d3ff77ee8757"
   },
   "outputs": [
    {
     "data": {
      "image/png": "[encoded data removed]",
      "text/plain": [
       "<Figure size 432x288 with 1 Axes>"
      ]
     },
     "metadata": {
      "needs_background": "light"
     },
     "output_type": "display_data"
    }
   ],
   "source": [
    "import matplotlib.pyplot as plt\n",
    "%matplotlib inline\n",
    "\n",
    "fig, ax = plt.subplots()\n",
    "\n",
    "ax.plot(df.index, prices)\n",
    "ax.set(title=f\"{TICKER}'s Stock price\", xlabel='Time', ylabel='Price ($)');"
   ]
  },
  {
   "cell_type": "markdown",
   "metadata": {
    "id": "5Kjs4FmK-nSH"
   },
   "source": [
    "5. Transform the time series into input for the CNN:"
   ]
  },
  {
   "cell_type": "code",
   "execution_count": null,
   "metadata": {
    "ExecuteTime": {
     "end_time": "2020-01-17T17:07:16.648404Z",
     "start_time": "2020-01-17T17:07:16.645186Z"
    },
    "id": "4fJcxdQ_-nSH"
   },
   "outputs": [],
   "source": [
    "X, y = create_input_data(prices, N_LAGS)\n",
    "#X=torch.from_numpy(X)\n",
    "#y=torch.from_numpy(y)\n"
   ]
  },
  {
   "cell_type": "code",
   "execution_count": null,
   "metadata": {
    "colab": {
     "base_uri": "https://localhost:8080/"
    },
    "id": "0ZSD-XM3-nSH",
    "outputId": "78d1c6ee-fa7e-443d-ed4b-05c6b89b64b7"
   },
   "outputs": [
    {
     "data": {
      "text/plain": [
       "(array([[14.466533, 14.515028, 14.411102, 14.078533, 13.586621, 13.513722, 14.267971, 14.575269, 14.575269, 14.505425,\n",
       "         14.784783, 15.532047],\n",
       "        [14.515028, 14.411102, 14.078533, 13.586621, 13.513722, 14.267971, 14.575269, 14.575269, 14.505425, 14.784783,\n",
       "         15.532047, 15.594908]]), array([[15.594908],\n",
       "        [15.776486]]))"
      ]
     },
     "execution_count": 52,
     "metadata": {},
     "output_type": "execute_result"
    }
   ],
   "source": [
    "X[0:2], y[0:2]"
   ]
  },
  {
   "cell_type": "markdown",
   "metadata": {
    "id": "FkCmfvqr-nSH"
   },
   "source": [
    "6. Obtain the naïve forecast:"
   ]
  },
  {
   "cell_type": "code",
   "execution_count": null,
   "metadata": {
    "ExecuteTime": {
     "end_time": "2020-01-17T17:07:16.687896Z",
     "start_time": "2020-01-17T17:07:16.683717Z"
    },
    "colab": {
     "base_uri": "https://localhost:8080/"
    },
    "id": "MwbWRPSX-nSH",
    "outputId": "7a91253a-48de-4d25-fc03-29b5ce2ddbac"
   },
   "outputs": [
    {
     "name": "stdout",
     "output_type": "stream",
     "text": [
      "Naive forecast - MSE: 2.19, RMSE: 1.48\n"
     ]
    }
   ],
   "source": [
    "naive_pred = torch.from_numpy(prices[len(prices) - valid_size - 1:-1])\n",
    "\n",
    "y_valid = torch.from_numpy(prices[len(prices) - valid_size:])\n",
    "\n",
    "naive_mse = mean_squared_error(y_valid, naive_pred)\n",
    "naive_rmse = np.sqrt(naive_mse)\n",
    "print(f\"Naive forecast - MSE: {naive_mse:.2f}, RMSE: {naive_rmse:.2f}\")"
   ]
  },
  {
   "cell_type": "markdown",
   "metadata": {
    "ExecuteTime": {
     "end_time": "2020-01-13T07:22:50.333717Z",
     "start_time": "2020-01-13T07:22:50.330143Z"
    },
    "id": "wODr-dbK-nSH"
   },
   "source": [
    "7. Prepare the `DataLoader` objects:"
   ]
  },
  {
   "cell_type": "code",
   "execution_count": null,
   "metadata": {
    "ExecuteTime": {
     "end_time": "2020-01-17T17:07:46.137217Z",
     "start_time": "2020-01-17T17:07:46.124283Z"
    },
    "id": "TzimEZEO-nSI"
   },
   "outputs": [],
   "source": [
    "# set seed for reproducibility\n",
    "custom_set_seed(42)\n",
    "\n",
    "valid_ind = len(X) - valid_size\n",
    "\n",
    "X_tensor = torch.from_numpy(X).float()\n",
    "y_tensor = torch.from_numpy(y).float().unsqueeze(dim=1)\n",
    "\n",
    "dataset = TensorDataset(X_tensor, y_tensor)\n",
    "\n",
    "train_dataset = Subset(dataset, list(range(valid_ind)))\n",
    "valid_dataset = Subset(dataset, list(range(valid_ind, len(X))))\n",
    "\n",
    "train_loader = DataLoader(dataset=train_dataset, \n",
    "                          batch_size=BATCH_SIZE)\n",
    "valid_loader = DataLoader(dataset=valid_dataset, \n",
    "                          batch_size=BATCH_SIZE)"
   ]
  },
  {
   "cell_type": "markdown",
   "metadata": {
    "id": "gYkxwgCv-nSI"
   },
   "source": [
    "Check the size of the datasets:"
   ]
  },
  {
   "cell_type": "code",
   "execution_count": null,
   "metadata": {
    "ExecuteTime": {
     "end_time": "2020-01-17T17:07:47.261941Z",
     "start_time": "2020-01-17T17:07:47.258666Z"
    },
    "colab": {
     "base_uri": "https://localhost:8080/"
    },
    "id": "4tpu5ZGZ-nSI",
    "outputId": "e153e24b-a1a6-4dc6-a82b-e4e194c8dbde"
   },
   "outputs": [
    {
     "name": "stdout",
     "output_type": "stream",
     "text": [
      "Size of datasets - training: 589 | validation: 26\n"
     ]
    }
   ],
   "source": [
    "print(f'Size of datasets - training: {len(train_loader.dataset)} | validation: {len(valid_loader.dataset)}')"
   ]
  },
  {
   "cell_type": "markdown",
   "metadata": {
    "id": "4HqukZxH-nSI"
   },
   "source": [
    "8. Define the CNN's architecture:"
   ]
  },
  {
   "cell_type": "code",
   "execution_count": null,
   "metadata": {
    "ExecuteTime": {
     "end_time": "2020-01-17T17:07:48.690159Z",
     "start_time": "2020-01-17T17:07:48.683239Z"
    },
    "colab": {
     "base_uri": "https://localhost:8080/"
    },
    "id": "Fhg7a1B0-nSI",
    "outputId": "40ecfbe9-7a3a-4fe7-f9f7-22bbb60e2fc7"
   },
   "outputs": [
    {
     "name": "stdout",
     "output_type": "stream",
     "text": [
      "Sequential(\n",
      "  (conv_1): Conv1d(1, 32, kernel_size=(3,), stride=(1,), padding=(1,))\n",
      "  (max_pool_1): MaxPool1d(kernel_size=2, stride=2, padding=0, dilation=1, ceil_mode=False)\n",
      "  (relu_1): ReLU()\n",
      "  (flatten): Flatten()\n",
      "  (fc_1): Linear(in_features=192, out_features=50, bias=True)\n",
      "  (relu_2): ReLU()\n",
      "  (dropout_1): Dropout(p=0.4, inplace=False)\n",
      "  (fc_2): Linear(in_features=50, out_features=1, bias=True)\n",
      ")\n"
     ]
    }
   ],
   "source": [
    "class Flatten(nn.Module):\n",
    "    def forward(self, x):\n",
    "        return x.view(x.size()[0], -1)\n",
    "\n",
    "model = nn.Sequential(OrderedDict([\n",
    "    ('conv_1', nn.Conv1d(1, 32, 3, padding=1)),\n",
    "    ('max_pool_1', nn.MaxPool1d(2)),\n",
    "    ('relu_1', nn.ReLU()),\n",
    "    ('flatten', Flatten()),\n",
    "    ('fc_1', nn.Linear(192, 50)),\n",
    "    ('relu_2', nn.ReLU()),\n",
    "    ('dropout_1', nn.Dropout(0.4)),\n",
    "    ('fc_2', nn.Linear(50, 1))\n",
    "]))\n",
    "\n",
    "print(model)"
   ]
  },
  {
   "cell_type": "markdown",
   "metadata": {
    "id": "xDHLNfjS-nSI"
   },
   "source": [
    "9. Instantiate the model, the loss function and the optimizer:"
   ]
  },
  {
   "cell_type": "code",
   "execution_count": null,
   "metadata": {
    "ExecuteTime": {
     "end_time": "2020-01-17T17:07:52.070258Z",
     "start_time": "2020-01-17T17:07:52.066477Z"
    },
    "id": "j6JZ_Yy3-nSI"
   },
   "outputs": [],
   "source": [
    "model = model.to(device)\n",
    "loss_fn = nn.MSELoss()\n",
    "optimizer = optim.Adam(model.parameters(), lr=0.001)"
   ]
  },
  {
   "cell_type": "markdown",
   "metadata": {
    "id": "jhAlat24-nSJ"
   },
   "source": [
    "10. Train the network:"
   ]
  },
  {
   "cell_type": "code",
   "execution_count": null,
   "metadata": {
    "ExecuteTime": {
     "end_time": "2020-01-17T17:10:11.136540Z",
     "start_time": "2020-01-17T17:07:54.063960Z"
    },
    "colab": {
     "base_uri": "https://localhost:8080/"
    },
    "id": "5QcaEGBT-nSJ",
    "outputId": "c0160ec9-7f24-403b-da61-dd4fcce9ed22"
   },
   "outputs": [
    {
     "name": "stdout",
     "output_type": "stream",
     "text": [
      "<0> - Train. loss: 7.397581 \t Valid. loss: 1.878685\n",
      "<50> - Train. loss: 5.958918 \t Valid. loss: 3.435033\n",
      "<100> - Train. loss: 5.260216 \t Valid. loss: 1.551319\n",
      "<150> - Train. loss: 5.327752 \t Valid. loss: 3.344005\n",
      "<200> - Train. loss: 4.638206 \t Valid. loss: 2.507967\n",
      "<250> - Train. loss: 4.284647 \t Valid. loss: 2.405184\n",
      "<300> - Train. loss: 4.079517 \t Valid. loss: 3.078639\n",
      "<350> - Train. loss: 3.739532 \t Valid. loss: 2.087413\n",
      "<400> - Train. loss: 3.390720 \t Valid. loss: 1.571490\n",
      "<450> - Train. loss: 3.394146 \t Valid. loss: 1.684045\n",
      "<500> - Train. loss: 3.454159 \t Valid. loss: 1.377631\n",
      "<550> - Train. loss: 3.281358 \t Valid. loss: 1.471798\n",
      "<600> - Train. loss: 3.428148 \t Valid. loss: 2.310316\n",
      "<650> - Train. loss: 3.384142 \t Valid. loss: 2.143242\n",
      "<700> - Train. loss: 3.139016 \t Valid. loss: 2.035328\n",
      "<750> - Train. loss: 3.226354 \t Valid. loss: 1.437872\n",
      "<800> - Train. loss: 3.233110 \t Valid. loss: 2.058021\n",
      "<850> - Train. loss: 3.257462 \t Valid. loss: 1.281868\n",
      "<900> - Train. loss: 3.206430 \t Valid. loss: 1.481648\n",
      "<950> - Train. loss: 3.082252 \t Valid. loss: 2.947777\n",
      "<1000> - Train. loss: 3.134508 \t Valid. loss: 1.557312\n",
      "<1050> - Train. loss: 3.251690 \t Valid. loss: 1.421938\n",
      "<1100> - Train. loss: 3.251521 \t Valid. loss: 1.636675\n",
      "<1150> - Train. loss: 3.060745 \t Valid. loss: 1.618460\n",
      "<1200> - Train. loss: 3.319692 \t Valid. loss: 3.669597\n",
      "<1250> - Train. loss: 3.244220 \t Valid. loss: 1.976009\n",
      "<1300> - Train. loss: 3.005225 \t Valid. loss: 1.403151\n",
      "<1350> - Train. loss: 3.314548 \t Valid. loss: 1.643301\n",
      "<1400> - Train. loss: 3.008736 \t Valid. loss: 1.302689\n",
      "<1450> - Train. loss: 3.181094 \t Valid. loss: 1.284551\n",
      "<1500> - Train. loss: 3.208245 \t Valid. loss: 1.259171\n",
      "<1550> - Train. loss: 3.261774 \t Valid. loss: 1.828987\n",
      "<1600> - Train. loss: 2.986259 \t Valid. loss: 1.347317\n",
      "<1650> - Train. loss: 3.162768 \t Valid. loss: 1.916456\n",
      "<1700> - Train. loss: 3.072660 \t Valid. loss: 1.679302\n",
      "<1750> - Train. loss: 2.838735 \t Valid. loss: 1.398998\n",
      "<1800> - Train. loss: 2.922397 \t Valid. loss: 1.704870\n",
      "<1850> - Train. loss: 2.865292 \t Valid. loss: 1.810029\n",
      "<1900> - Train. loss: 2.995376 \t Valid. loss: 2.065874\n",
      "<1950> - Train. loss: 3.006320 \t Valid. loss: 1.530361\n",
      "Lowest loss recorded in epoch: 15\n"
     ]
    }
   ],
   "source": [
    "PRINT_EVERY = 50\n",
    "train_losses, valid_losses = [], []\n",
    "\n",
    "for epoch in range(N_EPOCHS):\n",
    "    running_loss_train = 0\n",
    "    running_loss_valid = 0\n",
    "\n",
    "    model.train()\n",
    "    \n",
    "    for x_batch, y_batch in train_loader:\n",
    "        \n",
    "        optimizer.zero_grad()\n",
    "        \n",
    "        x_batch = x_batch.to(device)\n",
    "        x_batch = x_batch.view(x_batch.shape[0], 1, N_LAGS)\n",
    "        y_batch = y_batch.to(device)\n",
    "        y_batch = y_batch.view(y_batch.shape[0], 1, 1)\n",
    "        y_hat = model(x_batch).view(y_batch.shape[0], 1, 1)\n",
    "        loss = torch.sqrt(loss_fn(y_batch, y_hat))\n",
    "        loss.backward()\n",
    "        optimizer.step()\n",
    "        running_loss_train += loss.item() * x_batch.size(0)\n",
    "        \n",
    "    epoch_loss_train = running_loss_train / len(train_loader.dataset)\n",
    "    train_losses.append(epoch_loss_train)\n",
    "\n",
    "    with torch.no_grad():\n",
    "        model.eval()\n",
    "        for x_val, y_val in valid_loader:\n",
    "            x_val = x_val.to(device)\n",
    "            x_val = x_val.view(x_val.shape[0], 1, N_LAGS)\n",
    "            y_val = y_val.to(device)\n",
    "            y_val = y_val.view(y_val.shape[0], 1, 1)\n",
    "            y_hat = model(x_val).view(y_val.shape[0], 1, 1)\n",
    "            loss = torch.sqrt(loss_fn(y_val, y_hat))\n",
    "            running_loss_valid += loss.item() * x_val.size(0)\n",
    "            \n",
    "        epoch_loss_valid = running_loss_valid / len(valid_loader.dataset)\n",
    "            \n",
    "        if epoch > 0 and epoch_loss_valid < min(valid_losses):\n",
    "            best_epoch = epoch\n",
    "            torch.save(model.state_dict(), './cnn_checkpoint.pth')\n",
    "            \n",
    "        valid_losses.append(epoch_loss_valid)\n",
    "\n",
    "    if epoch % PRINT_EVERY == 0:\n",
    "        print(f\"<{epoch}> - Train. loss: {epoch_loss_train:.6f} \\t Valid. loss: {epoch_loss_valid:.6f}\")\n",
    "        \n",
    "print(f'Lowest loss recorded in epoch: {best_epoch}')"
   ]
  },
  {
   "cell_type": "markdown",
   "metadata": {
    "id": "WNuIR-dL-nSJ"
   },
   "source": [
    "11. Plot the losses over epochs:"
   ]
  },
  {
   "cell_type": "code",
   "execution_count": null,
   "metadata": {
    "ExecuteTime": {
     "end_time": "2020-01-17T17:11:56.198228Z",
     "start_time": "2020-01-17T17:11:49.580779Z"
    },
    "colab": {
     "base_uri": "https://localhost:8080/",
     "height": 297
    },
    "id": "wpGBDITB-nSJ",
    "outputId": "8583d9bc-6558-4545-e45e-fdd19435415e"
   },
   "outputs": [
    {
     "data": {
      "image/png": "[encoded data removed]",
      "text/plain": [
       "<Figure size 432x288 with 1 Axes>"
      ]
     },
     "metadata": {
      "needs_background": "light"
     },
     "output_type": "display_data"
    }
   ],
   "source": [
    "train_losses = np.array(train_losses)\n",
    "valid_losses = np.array(valid_losses)\n",
    "\n",
    "fig, ax = plt.subplots()\n",
    "\n",
    "ax.plot(train_losses, color='blue', label='Training loss')\n",
    "ax.plot(valid_losses, color='red', label='Validation loss')\n",
    "\n",
    "ax.set(title=\"Loss over epochs\", \n",
    "       xlabel='Epoch', \n",
    "       ylabel='Loss')\n",
    "ax.legend()\n",
    "\n",
    "plt.tight_layout()\n",
    "plt.show()"
   ]
  },
  {
   "cell_type": "markdown",
   "metadata": {
    "id": "hrU77v6G-nSJ"
   },
   "source": [
    "12. Load the best model (with the lowest validation loss):"
   ]
  },
  {
   "cell_type": "code",
   "execution_count": null,
   "metadata": {
    "ExecuteTime": {
     "end_time": "2020-01-17T17:12:31.062337Z",
     "start_time": "2020-01-17T17:12:31.051746Z"
    },
    "colab": {
     "base_uri": "https://localhost:8080/"
    },
    "id": "AwsQDGAa-nSJ",
    "outputId": "2c0b485c-44a7-4659-b980-2e7d59e916b9"
   },
   "outputs": [
    {
     "data": {
      "text/plain": [
       "<All keys matched successfully>"
      ]
     },
     "execution_count": 60,
     "metadata": {},
     "output_type": "execute_result"
    }
   ],
   "source": [
    "state_dict = torch.load('cnn_checkpoint.pth')\n",
    "model.load_state_dict(state_dict)"
   ]
  },
  {
   "cell_type": "markdown",
   "metadata": {
    "id": "b4HBgEOg-nSJ"
   },
   "source": [
    "13. Obtain the predictions:"
   ]
  },
  {
   "cell_type": "code",
   "execution_count": null,
   "metadata": {
    "ExecuteTime": {
     "end_time": "2020-01-17T17:12:32.944983Z",
     "start_time": "2020-01-17T17:12:32.936762Z"
    },
    "id": "EVMnqJD5-nSK"
   },
   "outputs": [],
   "source": [
    "y_pred, y_valid = [], []\n",
    "\n",
    "with torch.no_grad():\n",
    "    \n",
    "    model.eval()\n",
    "        \n",
    "    for x_val, y_val in valid_loader:\n",
    "        x_val = x_val.to(device)\n",
    "        x_val = x_val.view(x_val.shape[0], 1, N_LAGS)\n",
    "        y_pred.append(model(x_val))\n",
    "        y_valid.append(y_val)\n",
    "        \n",
    "y_pred = torch.cat(y_pred).numpy().flatten()\n",
    "y_valid = torch.cat(y_valid).numpy().flatten()"
   ]
  },
  {
   "cell_type": "markdown",
   "metadata": {
    "id": "3QrPkvKp-nSK"
   },
   "source": [
    "14. Evaluate the predictions:"
   ]
  },
  {
   "cell_type": "code",
   "execution_count": null,
   "metadata": {
    "ExecuteTime": {
     "end_time": "2020-01-17T17:13:08.958939Z",
     "start_time": "2020-01-17T17:13:03.058030Z"
    },
    "colab": {
     "base_uri": "https://localhost:8080/",
     "height": 315
    },
    "id": "tr-etE_m-nSK",
    "outputId": "b95ee3a2-0592-4295-8d54-e933d9abf465"
   },
   "outputs": [
    {
     "name": "stdout",
     "output_type": "stream",
     "text": [
      "CNN's forecast - MSE: 1.62, RMSE: 1.27\n"
     ]
    },
    {
     "data": {
      "image/png": "[encoded data removed]",
      "text/plain": [
       "<Figure size 432x288 with 1 Axes>"
      ]
     },
     "metadata": {
      "needs_background": "light"
     },
     "output_type": "display_data"
    }
   ],
   "source": [
    "y_valid_torch=torch.from_numpy(y_valid)\n",
    "y_pred_torch=torch.from_numpy(y_pred)\n",
    "\n",
    "cnn_mse = mean_squared_error(y_valid_torch, y_pred_torch)\n",
    "cnn_rmse = np.sqrt(cnn_mse)\n",
    "print(f\"CNN's forecast - MSE: {cnn_mse:.2f}, RMSE: {cnn_rmse:.2f}\")\n",
    "\n",
    "fig, ax = plt.subplots()\n",
    "\n",
    "ax.plot(y_valid, color='blue', label='Actual')\n",
    "ax.plot(y_pred, color='red', label='Prediction')\n",
    "#ax.plot(naive_pred, color='green', label='Naïve')\n",
    "\n",
    "ax.set(title=\"CNN's Forecasts\", \n",
    "       xlabel='Time', \n",
    "       ylabel='Price ($)')\n",
    "ax.legend()\n",
    "\n",
    "plt.tight_layout()\n",
    "plt.show()"
   ]
  },
  {
   "cell_type": "markdown",
   "metadata": {
    "id": "hWhS3CSu-nSK"
   },
   "source": [
    "## Recurrent neural networks for time series forecasting\n",
    "Recurrent Neural Networks (RNNs) are a special type of neural network designed to work with sequential data. They are popular for time series forecasting as well as for solving NLP problems such as machine translation, text generation, and speech recognition. There are numerous extensions of the RNNs, such as Long-Short Term Memory (LSTM) networks and Gated Recurrent Unit (GRU) networks, which are currently part of some of the state-of-the-art architectures. However, it is good to be familiar with the original vanilla RNN.\n",
    "\n",
    "\n",
    "One of the main differences between the feedforward networks and RNNs is that the former take a fixed size input at once to produce a fixed size output. On the other hand,\n",
    "RNNs do not take all the input data at once – they ingest the data sequentially, one at a time. At each step, the network applies a series of calculations to produce the output, also known as the hidden state. \n",
    "\n",
    "Source: https://en.wikipedia.org/wiki/Recurrent_neural_network"
   ]
  },
  {
   "cell_type": "markdown",
   "metadata": {
    "id": "vvJNLmlr-nSK"
   },
   "source": [
    "1. Import the libraries:"
   ]
  },
  {
   "cell_type": "code",
   "execution_count": null,
   "metadata": {
    "ExecuteTime": {
     "end_time": "2020-01-29T01:50:57.970592Z",
     "start_time": "2020-01-29T01:50:56.700367Z"
    },
    "colab": {
     "base_uri": "https://localhost:8080/"
    },
    "id": "rQfM1-zF-nSK",
    "outputId": "ccc47db3-32ad-48d6-bb92-f80c12d005c3"
   },
   "outputs": [
    {
     "name": "stdout",
     "output_type": "stream",
     "text": [
      "1.10.0+cu111\n"
     ]
    }
   ],
   "source": [
    "import yfinance as yf\n",
    "import numpy as np\n",
    "\n",
    "import torch\n",
    "import torch.optim as optim\n",
    "import torch.nn as nn\n",
    "from torch.utils.data import Dataset, TensorDataset, DataLoader, Subset\n",
    "from collections import OrderedDict\n",
    "\n",
    "from sklearn.metrics import mean_squared_error\n",
    "from sklearn.preprocessing import MinMaxScaler\n",
    "\n",
    "print(torch.__version__)\n",
    "\n",
    "device = 'cuda' if torch.cuda.is_available() else 'cpu'"
   ]
  },
  {
   "cell_type": "markdown",
   "metadata": {
    "id": "4tMPyMS_-nSL"
   },
   "source": [
    "2. Define the parameters:"
   ]
  },
  {
   "cell_type": "code",
   "execution_count": null,
   "metadata": {
    "ExecuteTime": {
     "end_time": "2020-01-29T01:50:57.994763Z",
     "start_time": "2020-01-29T01:50:57.991765Z"
    },
    "id": "6hgq9O2t-nSL"
   },
   "outputs": [],
   "source": [
    "# data\n",
    "TICKER = 'INTC'\n",
    "START_DATE = '2010-01-02'\n",
    "END_DATE = '2021-12-31'\n",
    "VALID_START = '2021-07-01'\n",
    "N_LAGS = 12\n",
    "\n",
    "# neural network \n",
    "BATCH_SIZE = 16\n",
    "N_EPOCHS = 100"
   ]
  },
  {
   "cell_type": "markdown",
   "metadata": {
    "id": "NRab-yPV-nSL"
   },
   "source": [
    "3. Download and prepare the data:"
   ]
  },
  {
   "cell_type": "code",
   "execution_count": null,
   "metadata": {
    "ExecuteTime": {
     "end_time": "2020-01-29T01:50:58.539057Z",
     "start_time": "2020-01-29T01:50:58.332943Z"
    },
    "id": "pXwqwP9Z-nSL"
   },
   "outputs": [],
   "source": [
    "df = yf.download(TICKER, \n",
    "                 start=START_DATE, \n",
    "                 end=END_DATE,\n",
    "                 progress=False)\n",
    "\n",
    "df = df.resample('W-MON').last()\n",
    "valid_size = df.loc[VALID_START:END_DATE].shape[0]\n",
    "prices = df['Adj Close'].values.reshape(-1, 1)"
   ]
  },
  {
   "cell_type": "code",
   "execution_count": null,
   "metadata": {
    "ExecuteTime": {
     "end_time": "2020-01-29T01:51:02.306178Z",
     "start_time": "2020-01-29T01:50:58.625943Z"
    },
    "colab": {
     "base_uri": "https://localhost:8080/"
    },
    "id": "3Pw6mMTT-nSL",
    "outputId": "7ed5084e-e5ce-4afa-8868-6e0df715adfc"
   },
   "outputs": [
    {
     "data": {
      "image/png": "[encoded data removed]",
      "text/plain": [
       "<Figure size 432x288 with 1 Axes>"
      ]
     },
     "metadata": {
      "image/png": {
       "height": 277,
       "width": 381
      },
      "needs_background": "light"
     },
     "output_type": "display_data"
    }
   ],
   "source": [
    "fig, ax = plt.subplots()\n",
    "\n",
    "ax.plot(df.index, prices)\n",
    "ax.set(title=f\"{TICKER}'s Stock price\", \n",
    "       xlabel='Time', \n",
    "       ylabel='Price ($)');"
   ]
  },
  {
   "cell_type": "markdown",
   "metadata": {
    "id": "_PJYTCnI-nSL"
   },
   "source": [
    "4. Scale the time series of prices:"
   ]
  },
  {
   "cell_type": "code",
   "execution_count": null,
   "metadata": {
    "ExecuteTime": {
     "end_time": "2020-01-29T01:51:02.355950Z",
     "start_time": "2020-01-29T01:51:02.351905Z"
    },
    "colab": {
     "base_uri": "https://localhost:8080/"
    },
    "id": "cqtwmxRM-nSL",
    "outputId": "00897254-f433-4512-9568-361d72cab105"
   },
   "outputs": [
    {
     "data": {
      "text/plain": [
       "[<matplotlib.lines.Line2D at 0x7f45cf12ac50>]"
      ]
     },
     "execution_count": 189,
     "metadata": {},
     "output_type": "execute_result"
    },
    {
     "data": {
      "image/png": "[encoded data removed]",
      "text/plain": [
       "<Figure size 432x288 with 1 Axes>"
      ]
     },
     "metadata": {
      "image/png": {
       "height": 248,
       "width": 370
      },
      "needs_background": "light"
     },
     "output_type": "display_data"
    }
   ],
   "source": [
    "valid_ind = len(prices) - valid_size\n",
    "\n",
    "minmax = MinMaxScaler(feature_range=(0, 1))\n",
    "\n",
    "prices_train = prices[:valid_ind]\n",
    "prices_valid = prices[valid_ind:]\n",
    "\n",
    "minmax.fit(prices_train)\n",
    "\n",
    "prices_train = minmax.transform(prices_train)\n",
    "prices_valid = minmax.transform(prices_valid)\n",
    "\n",
    "prices_scaled = np.concatenate((prices_train, \n",
    "                                prices_valid)).flatten()\n",
    "plt.plot(prices_scaled)"
   ]
  },
  {
   "cell_type": "markdown",
   "metadata": {
    "id": "_T2vatdE-nSM"
   },
   "source": [
    "5. Transform the time series into input for the RNN:"
   ]
  },
  {
   "cell_type": "code",
   "execution_count": null,
   "metadata": {
    "ExecuteTime": {
     "end_time": "2020-01-17T17:13:42.077002Z",
     "start_time": "2020-01-17T17:13:42.070559Z"
    },
    "id": "4d-QJppu-nSM"
   },
   "outputs": [],
   "source": [
    "X, y = create_input_data(prices_scaled, N_LAGS)"
   ]
  },
  {
   "cell_type": "markdown",
   "metadata": {
    "id": "g5pIHCe_-nSM"
   },
   "source": [
    "6. Obtain the naïve forecast:"
   ]
  },
  {
   "cell_type": "code",
   "execution_count": null,
   "metadata": {
    "ExecuteTime": {
     "end_time": "2020-01-17T17:13:42.172555Z",
     "start_time": "2020-01-17T17:13:42.167345Z"
    },
    "colab": {
     "base_uri": "https://localhost:8080/"
    },
    "id": "a95mLuTr-nSM",
    "outputId": "0bd69b05-2f85-4f0f-de4f-b4683fdfa6f2"
   },
   "outputs": [
    {
     "name": "stdout",
     "output_type": "stream",
     "text": [
      "Naive forecast - MSE: 2.1920, RMSE: 1.4806\n"
     ]
    }
   ],
   "source": [
    "naive_pred = prices[len(prices)-valid_size-1:-1]\n",
    "y_valid = prices[len(prices)-valid_size:]\n",
    "\n",
    "naive_mse = mean_squared_error(y_valid, naive_pred)\n",
    "naive_rmse = np.sqrt(naive_mse)\n",
    "print(f\"Naive forecast - MSE: {naive_mse:.4f}, RMSE: {naive_rmse:.4f}\")"
   ]
  },
  {
   "cell_type": "markdown",
   "metadata": {
    "ExecuteTime": {
     "end_time": "2020-01-13T07:22:50.333717Z",
     "start_time": "2020-01-13T07:22:50.330143Z"
    },
    "id": "VsQPeElH-nSM"
   },
   "source": [
    "7. Prepare the `DataLoader` objects:"
   ]
  },
  {
   "cell_type": "code",
   "execution_count": null,
   "metadata": {
    "ExecuteTime": {
     "end_time": "2020-01-17T17:13:46.110100Z",
     "start_time": "2020-01-17T17:13:46.095568Z"
    },
    "id": "5gpEOiWa-nSM"
   },
   "outputs": [],
   "source": [
    "# set seed for reproducibility\n",
    "custom_set_seed(42)\n",
    "\n",
    "valid_ind = len(X) - valid_size\n",
    "\n",
    "X_tensor = torch.from_numpy(X).float().reshape(X.shape[0], \n",
    "                                               X.shape[1], \n",
    "                                               1)\n",
    "y_tensor = torch.from_numpy(y).float().reshape(X.shape[0], 1)\n",
    "\n",
    "dataset = TensorDataset(X_tensor, y_tensor)\n",
    "\n",
    "train_dataset = Subset(dataset, list(range(valid_ind)))\n",
    "valid_dataset = Subset(dataset, list(range(valid_ind, len(X))))\n",
    "\n",
    "train_loader = DataLoader(dataset=train_dataset, \n",
    "                          batch_size=BATCH_SIZE, \n",
    "                          shuffle=True)\n",
    "valid_loader = DataLoader(dataset=valid_dataset, \n",
    "                          batch_size=BATCH_SIZE)"
   ]
  },
  {
   "cell_type": "markdown",
   "metadata": {
    "id": "pWOejjxf-nSN"
   },
   "source": [
    "Check the size of the datasets:"
   ]
  },
  {
   "cell_type": "code",
   "execution_count": null,
   "metadata": {
    "ExecuteTime": {
     "end_time": "2020-01-17T17:13:47.158485Z",
     "start_time": "2020-01-17T17:13:47.155571Z"
    },
    "colab": {
     "base_uri": "https://localhost:8080/"
    },
    "id": "OhnXqpgf-nSN",
    "outputId": "6d988dc7-36d5-4165-ad6e-60b2d267cc50"
   },
   "outputs": [
    {
     "name": "stdout",
     "output_type": "stream",
     "text": [
      "Size of datasets - training: 589 | validation: 26\n"
     ]
    }
   ],
   "source": [
    "print(f'Size of datasets - training: {len(train_loader.dataset)} | validation: {len(valid_loader.dataset)}')"
   ]
  },
  {
   "cell_type": "markdown",
   "metadata": {
    "id": "EMqWbBoh-nSN"
   },
   "source": [
    "8. Define the model:"
   ]
  },
  {
   "cell_type": "code",
   "execution_count": null,
   "metadata": {
    "ExecuteTime": {
     "end_time": "2020-01-17T17:13:51.793811Z",
     "start_time": "2020-01-17T17:13:51.788377Z"
    },
    "id": "1-7yk2V4-nSN"
   },
   "outputs": [],
   "source": [
    "class RNN(nn.Module):\n",
    "    def __init__(self, input_size, hidden_size, n_layers, output_size):\n",
    "        super(RNN, self).__init__()\n",
    "        self.rnn = nn.RNN(input_size, hidden_size, \n",
    "                          n_layers, batch_first=True,\n",
    "                          nonlinearity='relu')\n",
    "        self.fc = nn.Linear(hidden_size, output_size)\n",
    "    \n",
    "    def forward(self, x):\n",
    "        output, _ = self.rnn(x)\n",
    "        output = self.fc(output[:,-1,:]) \n",
    "        return output"
   ]
  },
  {
   "cell_type": "markdown",
   "metadata": {
    "id": "mUYW0baE-nSN"
   },
   "source": [
    "9. Instantiate the model, the loss function and the optimizer:"
   ]
  },
  {
   "cell_type": "code",
   "execution_count": null,
   "metadata": {
    "ExecuteTime": {
     "end_time": "2020-01-17T17:13:54.680163Z",
     "start_time": "2020-01-17T17:13:54.675700Z"
    },
    "id": "EWOxVKwe-nSN"
   },
   "outputs": [],
   "source": [
    "model = RNN(input_size=1, hidden_size=6, \n",
    "            n_layers=1, output_size=1).to(device)\n",
    "loss_fn = nn.MSELoss()\n",
    "optimizer = optim.Adam(model.parameters(), lr=0.001)"
   ]
  },
  {
   "cell_type": "markdown",
   "metadata": {
    "id": "D30eCwxz-nSN"
   },
   "source": [
    "10. Train the network:"
   ]
  },
  {
   "cell_type": "code",
   "execution_count": null,
   "metadata": {
    "ExecuteTime": {
     "end_time": "2020-01-17T17:14:03.033487Z",
     "start_time": "2020-01-17T17:13:55.851477Z"
    },
    "colab": {
     "base_uri": "https://localhost:8080/"
    },
    "id": "IAJow3jv-nSO",
    "outputId": "889bf45b-f7a4-45d2-8412-596b1c265630"
   },
   "outputs": [
    {
     "name": "stdout",
     "output_type": "stream",
     "text": [
      "<0> - Train. loss: 0.3230 \t Valid. loss: 0.4138\n",
      "<10> - Train. loss: 0.0343 \t Valid. loss: 0.0285\n",
      "<20> - Train. loss: 0.0349 \t Valid. loss: 0.0336\n",
      "<30> - Train. loss: 0.0325 \t Valid. loss: 0.0290\n",
      "<40> - Train. loss: 0.0309 \t Valid. loss: 0.0265\n",
      "<50> - Train. loss: 0.0313 \t Valid. loss: 0.0254\n",
      "<60> - Train. loss: 0.0304 \t Valid. loss: 0.0255\n",
      "<70> - Train. loss: 0.0289 \t Valid. loss: 0.0255\n",
      "<80> - Train. loss: 0.0283 \t Valid. loss: 0.0257\n",
      "<90> - Train. loss: 0.0275 \t Valid. loss: 0.0282\n",
      "Lowest loss recorded in epoch: 29\n"
     ]
    }
   ],
   "source": [
    "PRINT_EVERY = 10\n",
    "train_losses, valid_losses = [], []\n",
    "\n",
    "for epoch in range(N_EPOCHS):\n",
    "    running_loss_train = 0\n",
    "    running_loss_valid = 0\n",
    "\n",
    "    model.train()\n",
    "    \n",
    "    for x_batch, y_batch in train_loader:\n",
    "        \n",
    "        optimizer.zero_grad()\n",
    "        \n",
    "        x_batch = x_batch.to(device)\n",
    "        y_batch = y_batch.to(device)\n",
    "        y_hat = model(x_batch)\n",
    "        loss = torch.sqrt(loss_fn(y_batch, y_hat))\n",
    "        loss.backward()\n",
    "        optimizer.step()\n",
    "        running_loss_train += loss.item() * x_batch.size(0)\n",
    "        \n",
    "    epoch_loss_train = running_loss_train / len(train_loader.dataset)\n",
    "    train_losses.append(epoch_loss_train)\n",
    "\n",
    "    with torch.no_grad():\n",
    "        model.eval()\n",
    "        for x_val, y_val in valid_loader:\n",
    "            x_val = x_val.to(device)\n",
    "            y_val = y_val.to(device)\n",
    "            y_hat = model(x_val)\n",
    "            loss = torch.sqrt(loss_fn(y_val, y_hat))\n",
    "            running_loss_valid += loss.item() * x_val.size(0)\n",
    "            \n",
    "        epoch_loss_valid = running_loss_valid / len(valid_loader.dataset)\n",
    "            \n",
    "        if epoch > 0 and epoch_loss_valid < min(valid_losses):\n",
    "            best_epoch = epoch\n",
    "            torch.save(model.state_dict(), './rnn_checkpoint.pth')\n",
    "            \n",
    "        valid_losses.append(epoch_loss_valid)\n",
    "\n",
    "    if epoch % PRINT_EVERY == 0:\n",
    "        print(f\"<{epoch}> - Train. loss: {epoch_loss_train:.4f} \\t Valid. loss: {epoch_loss_valid:.4f}\")\n",
    "        \n",
    "print(f'Lowest loss recorded in epoch: {best_epoch}')"
   ]
  },
  {
   "cell_type": "markdown",
   "metadata": {
    "id": "epd5cDjM-nSO"
   },
   "source": [
    "11. Plot the losses over epochs:"
   ]
  },
  {
   "cell_type": "code",
   "execution_count": null,
   "metadata": {
    "ExecuteTime": {
     "end_time": "2020-01-17T17:15:44.015092Z",
     "start_time": "2020-01-17T17:15:38.838476Z"
    },
    "colab": {
     "base_uri": "https://localhost:8080/"
    },
    "id": "zYF4HITt-nSO",
    "outputId": "6c1e4336-2705-496e-8600-1dda232c9531"
   },
   "outputs": [
    {
     "data": {
      "image/png": "[encoded data removed]",
      "text/plain": [
       "<Figure size 432x288 with 1 Axes>"
      ]
     },
     "metadata": {
      "image/png": {
       "height": 277,
       "width": 390
      },
      "needs_background": "light"
     },
     "output_type": "display_data"
    }
   ],
   "source": [
    "train_losses = np.array(train_losses)\n",
    "valid_losses = np.array(valid_losses)\n",
    "\n",
    "fig, ax = plt.subplots()\n",
    "\n",
    "ax.plot(train_losses, color='blue', label='Training loss')\n",
    "ax.plot(valid_losses, color='red', label='Validation loss')\n",
    "\n",
    "ax.set(title=\"Loss over epochs\", \n",
    "       xlabel='Epoch', \n",
    "       ylabel='Loss')\n",
    "ax.legend()\n",
    "\n",
    "plt.show()"
   ]
  },
  {
   "cell_type": "markdown",
   "metadata": {
    "id": "7xEe3ESm-nSO"
   },
   "source": [
    "12. Load the best model (with the lowest validation loss):"
   ]
  },
  {
   "cell_type": "code",
   "execution_count": null,
   "metadata": {
    "ExecuteTime": {
     "end_time": "2020-01-17T17:15:44.169860Z",
     "start_time": "2020-01-17T17:15:44.165410Z"
    },
    "colab": {
     "base_uri": "https://localhost:8080/"
    },
    "id": "_93R0OTQ-nSO",
    "outputId": "6e6697ff-af55-463f-c254-f7a1bbba5336"
   },
   "outputs": [
    {
     "data": {
      "text/plain": [
       "<All keys matched successfully>"
      ]
     },
     "execution_count": 198,
     "metadata": {},
     "output_type": "execute_result"
    }
   ],
   "source": [
    "state_dict = torch.load('rnn_checkpoint.pth')\n",
    "model.load_state_dict(state_dict)"
   ]
  },
  {
   "cell_type": "markdown",
   "metadata": {
    "id": "UNs56Bw2-nSP"
   },
   "source": [
    "13. Obtain the predictions:"
   ]
  },
  {
   "cell_type": "code",
   "execution_count": null,
   "metadata": {
    "ExecuteTime": {
     "end_time": "2020-01-17T17:15:45.357654Z",
     "start_time": "2020-01-17T17:15:45.350744Z"
    },
    "id": "hhEsiTzI-nSP"
   },
   "outputs": [],
   "source": [
    "y_pred = []\n",
    "\n",
    "with torch.no_grad():\n",
    "    \n",
    "    model.eval()\n",
    "    \n",
    "    for x_val, y_val in valid_loader:\n",
    "        x_val = x_val.to(device)\n",
    "        y_hat = model(x_val)\n",
    "        y_pred.append(y_hat)\n",
    "        \n",
    "y_pred = torch.cat(y_pred).numpy()\n",
    "y_pred = minmax.inverse_transform(y_pred).flatten()"
   ]
  },
  {
   "cell_type": "markdown",
   "metadata": {
    "id": "R22_tkx8-nSP"
   },
   "source": [
    "14. Evaluate the predictions:"
   ]
  },
  {
   "cell_type": "code",
   "execution_count": null,
   "metadata": {
    "ExecuteTime": {
     "end_time": "2020-01-17T17:16:10.556651Z",
     "start_time": "2020-01-17T17:16:04.261880Z"
    },
    "colab": {
     "base_uri": "https://localhost:8080/"
    },
    "id": "IfgRxLfB-nSP",
    "outputId": "3b419ecc-161f-44e1-a017-7bd02f6b4d0d"
   },
   "outputs": [
    {
     "name": "stdout",
     "output_type": "stream",
     "text": [
      "RNN's forecast - MSE: 1.7283, RMSE: 1.3146\n"
     ]
    },
    {
     "data": {
      "image/png": "[encoded data removed]",
      "text/plain": [
       "<Figure size 432x288 with 1 Axes>"
      ]
     },
     "metadata": {
      "image/png": {
       "height": 280,
       "width": 425
      },
      "needs_background": "light"
     },
     "output_type": "display_data"
    }
   ],
   "source": [
    "rnn_mse = mean_squared_error(y_valid, y_pred)\n",
    "rnn_rmse = np.sqrt(rnn_mse)\n",
    "print(f\"RNN's forecast - MSE: {rnn_mse:.4f}, RMSE: {rnn_rmse:.4f}\")\n",
    "\n",
    "fig, ax = plt.subplots()\n",
    "\n",
    "ax.plot(y_valid, color='blue', label='Actual')\n",
    "ax.plot(y_pred, color='red', label='RNN')\n",
    "ax.plot(naive_pred, color='green', label='Naïve')\n",
    "\n",
    "ax.set(title=\"RNN's Forecasts\", \n",
    "       xlabel='Time', \n",
    "       ylabel='Price ($)')\n",
    "ax.legend()\n",
    "\n",
    "plt.tight_layout()\n",
    "plt.show()"
   ]
  }
 ],
 "metadata": {
  "colab": {
   "collapsed_sections": [],
   "name": "AssignmentQ2.ipynb",
   "provenance": []
  },
  "kernelspec": {
   "display_name": "Python 3 (ipykernel)",
   "language": "python",
   "name": "python3"
  },
  "language_info": {
   "codemirror_mode": {
    "name": "ipython",
    "version": 3
   },
   "file_extension": ".py",
   "mimetype": "text/x-python",
   "name": "python",
   "nbconvert_exporter": "python",
   "pygments_lexer": "ipython3",
   "version": "3.11.7"
  },
  "toc": {
   "base_numbering": 1,
   "nav_menu": {},
   "number_sections": true,
   "sideBar": true,
   "skip_h1_title": false,
   "title_cell": "Table of Contents",
   "title_sidebar": "Contents",
   "toc_cell": false,
   "toc_position": {
    "height": "calc(100% - 180px)",
    "left": "10px",
    "top": "150px",
    "width": "336px"
   },
   "toc_section_display": true,
   "toc_window_display": true
  },
  "varInspector": {
   "cols": {
    "lenName": 16,
    "lenType": 16,
    "lenVar": 40
   },
   "kernels_config": {
    "python": {
     "delete_cmd_postfix": "",
     "delete_cmd_prefix": "del ",
     "library": "var_list.py",
     "varRefreshCmd": "print(var_dic_list())"
    },
    "r": {
     "delete_cmd_postfix": ") ",
     "delete_cmd_prefix": "rm(",
     "library": "var_list.r",
     "varRefreshCmd": "cat(var_dic_list()) "
    }
   },
   "types_to_exclude": [
    "module",
    "function",
    "builtin_function_or_method",
    "instance",
    "_Feature"
   ],
   "window_display": false
  }
 },
 "nbformat": 4,
 "nbformat_minor": 4
}
